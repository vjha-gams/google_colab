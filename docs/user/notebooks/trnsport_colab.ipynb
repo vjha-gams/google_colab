{
  "cells": [
    {
      "cell_type": "markdown",
      "metadata": {
        "id": "LtJEdiLUCOF7"
      },
      "source": [
        "# Quick Start Guide\n",
        "\n",
        "## Introduction\n",
        "\n",
        "This quick start guide is designed to provide you with a concise overview of GAMSPy and its key features. By the end of this guide, you'll have a solid understanding of how to create basic mathematical models using GAMSPy. For more advanced features, we recommend exploring our comprehensive [user guide](https://gamspy.readthedocs.io/en/latest/user/index.html) and the extensive [model library](https://github.com/GAMS-dev/gamspy-examples).\n",
        "\n",
        "While not mandatory, having a basic understanding of Python programming and familiarity with the [Pandas library](https://pandas.pydata.org/) will be helpful for following this tutorial.\n",
        "\n",
        "## A Transportation Problem\n",
        "\n",
        "In this guide, we'll delve into an example of the transportation problem. This classic scenario involves managing supplies from various plants to meet demands at multiple markets for a single commodity. Additionally, we have the unit costs associated with shipping the commodity from plants to markets. The fundamental economic question here is:\n",
        "\n",
        "> How can we optimize the shipment quantities between each plant and market to minimize the total transport cost?\n",
        "\n",
        "The problem's algebraic representation typically takes the following format:\n",
        "\n",
        "Indices (Sets):\n",
        "\n",
        "- $i$ = plants\n",
        "- $j$ = markets\n",
        "\n",
        "Given Data (Parameters):\n",
        "\n",
        "- $a_i$ = supply of commodity at plant $i$ (in cases)\n",
        "- $b_j$ = demand for commodity at market $j$ (in cases)\n",
        "- $c_{ij}$ = cost per unit of shipment between plant $i$ and market $j$\n",
        "\n",
        "Decision Variables:\n",
        "\n",
        "- $x_{ij}$ = amount of commodity to ship from plant $i$ to market $j$ where $x_{ij} \\ge 0$ for all $i,j$\n",
        "\n",
        "Constraints:\n",
        "\n",
        "- Observe supply limit at plant $i$: $\\sum_j x_{ij} \\le a_i \\: \\forall i$\n",
        "- Satisfy demand at market $j$: $\\sum_i x_{ij} \\ge b_j \\: \\forall j$\n",
        "- Objective Function: Minimize $\\sum_i \\sum_j c_{ij} \\cdot x_{ij}$\n"
      ]
    },
    {
      "cell_type": "markdown",
      "metadata": {
        "id": "ZgxPfT_VCOF9"
      },
      "source": [
        "## Symbol Declaration\n",
        "\n",
        "In line with our systematic breakdown of the transportation problem into sets, parameters, variables, and constraints, we will adopt a similar approach to define the problem as a GAMSPy `Model`. To do so, it is essential to import the `gamspy` library initially."
      ]
    },
    {
      "cell_type": "code",
      "execution_count": 1,
      "metadata": {
        "id": "X8qwvnoECOF-",
        "outputId": "452c17f5-45fc-4e92-81fd-c0d6fb1579f9",
        "colab": {
          "base_uri": "https://localhost:8080/"
        }
      },
      "outputs": [
        {
          "output_type": "stream",
          "name": "stdout",
          "text": [
            "\u001b[2K   \u001b[90m━━━━━━━━━━━━━━━━━━━━━━━━━━━━━━━━━━━━━━━━\u001b[0m \u001b[32m177.7/177.7 kB\u001b[0m \u001b[31m3.5 MB/s\u001b[0m eta \u001b[36m0:00:00\u001b[0m\n",
            "\u001b[2K   \u001b[90m━━━━━━━━━━━━━━━━━━━━━━━━━━━━━━━━━━━━━━━━\u001b[0m \u001b[32m1.2/1.2 MB\u001b[0m \u001b[31m25.3 MB/s\u001b[0m eta \u001b[36m0:00:00\u001b[0m\n",
            "\u001b[2K   \u001b[90m━━━━━━━━━━━━━━━━━━━━━━━━━━━━━━━━━━━━━━━━\u001b[0m \u001b[32m75.1/75.1 MB\u001b[0m \u001b[31m10.3 MB/s\u001b[0m eta \u001b[36m0:00:00\u001b[0m\n",
            "\u001b[?25h"
          ]
        }
      ],
      "source": [
        "# Install dependencies\n",
        "! pip install -q gamspy"
      ]
    },
    {
      "cell_type": "code",
      "execution_count": 2,
      "metadata": {
        "id": "QvH1T94zCOF-"
      },
      "outputs": [],
      "source": [
        "from gamspy import Container, Set, Parameter, Variable, Equation, Model, Sum, Sense, Options"
      ]
    },
    {
      "cell_type": "markdown",
      "metadata": {
        "id": "xcFxmoVTCOF_"
      },
      "source": [
        "### Container\n",
        "\n",
        "Before we proceed further, let's create a `Container` to encapsulate all the relevant information for our GAMSPy ``Model``. This ``Container`` acts as a centralized hub, gathering essential data, sets, parameters, variables, and constraints, providing a clear structure for our optimization problem."
      ]
    },
    {
      "cell_type": "code",
      "execution_count": 3,
      "metadata": {
        "id": "hMoqvbaYCOF_"
      },
      "outputs": [],
      "source": [
        "m = Container()"
      ]
    },
    {
      "cell_type": "markdown",
      "metadata": {
        "id": "LGBl2xgiCOGA"
      },
      "source": [
        "### Sets\n",
        "\n",
        "Sets serve as the fundamental building blocks of a GAMSPy ``Model``, directly corresponding to the indices in the algebraic representations of models. In our transportation problem context, we have defined the following indices:\n",
        "\n",
        "- $i$ = plants\n",
        "- $j$ = markets\n",
        "\n",
        "For detailed guidance on using sets, please refer to the [set section](https://gamspy.readthedocs.io/en/latest/user/basics/set.html) of our user guide."
      ]
    },
    {
      "cell_type": "code",
      "execution_count": 4,
      "metadata": {
        "id": "yAc25PNgCOGA",
        "outputId": "03bf2786-cb01-42fe-c16c-50e343d9b3a0",
        "colab": {
          "base_uri": "https://localhost:8080/"
        }
      },
      "outputs": [
        {
          "output_type": "execute_result",
          "data": {
            "text/plain": [
              "('i', 'j')"
            ]
          },
          "metadata": {},
          "execution_count": 4
        }
      ],
      "source": [
        "i = Set(container=m, name=\"i\", description=\"plants\")\n",
        "j = Set(container=m, name=\"j\", description=\"markets\")\n",
        "i.name, j.name"
      ]
    },
    {
      "cell_type": "markdown",
      "metadata": {
        "id": "bRuY9qZTCOGB"
      },
      "source": [
        "The effect of using the above `Set` statements is that we declared two sets, namely $i$ and $j$. Additionally, we provided descriptions to elaborate on their meaning, enhancing the readability of our ``Model``. ``name`` argument of symbol constructors is optional. If the name is not provided, GAMSPy will generate a name for it automatically. Example of a symbol with an autogenerated name:"
      ]
    },
    {
      "cell_type": "code",
      "execution_count": 5,
      "metadata": {
        "id": "bzJ-OdBWCOGC",
        "outputId": "71924aca-d28d-4530-ec4b-fabfb15ba18c",
        "colab": {
          "base_uri": "https://localhost:8080/",
          "height": 35
        }
      },
      "outputs": [
        {
          "output_type": "execute_result",
          "data": {
            "text/plain": [
              "'s95829877_be7f_469f_8a5b_600ae21fbfd5'"
            ],
            "application/vnd.google.colaboratory.intrinsic+json": {
              "type": "string"
            }
          },
          "metadata": {},
          "execution_count": 5
        }
      ],
      "source": [
        "dummy_symbol = Set(container=m)\n",
        "dummy_symbol.name"
      ]
    },
    {
      "cell_type": "markdown",
      "metadata": {
        "id": "Hp6hviWICOGC"
      },
      "source": [
        "Providing a name to a symbol is highly recommended for many purposes. For example, if you want to reach to the symbol object via Container later in your script, you can get it with ``container['your_symbol_name']``. It is also important for interoperability which will be explained later.  "
      ]
    },
    {
      "cell_type": "markdown",
      "metadata": {
        "id": "VkP8-0x_COGD"
      },
      "source": [
        "### Parameters\n",
        "\n",
        "Parameters are declared using the `Parameter` class. Each parameter is assigned a name and a description.  Note that parameter $a_i$ is indexed by $i$. To accommodate these indices, we include the `domain` attribute, pointing to the corresponding set."
      ]
    },
    {
      "cell_type": "code",
      "execution_count": 6,
      "metadata": {
        "id": "fhTVRmSGCOGD"
      },
      "outputs": [],
      "source": [
        "a = Parameter(\n",
        "    container=m,\n",
        "    name=\"a\",\n",
        "    domain=i,\n",
        "    description=\"supply of commodity at plant i (in cases)\"\n",
        ")\n",
        "b = Parameter(\n",
        "    container=m,\n",
        "    name=\"b\",\n",
        "    domain=j,\n",
        "    description=\"demand for commodity at market j (in cases)\"\n",
        ")\n",
        "c = Parameter(\n",
        "    container=m,\n",
        "    name=\"c\",\n",
        "    domain=[i, j],\n",
        "    description=\"cost per unit of shipment between plant i and market j\",\n",
        ")"
      ]
    },
    {
      "cell_type": "markdown",
      "metadata": {
        "id": "DuXStL6LCOGD"
      },
      "source": [
        "### Variables\n",
        "\n",
        "GAMSPy variables are declared using `Variable`. Each ``Variable`` is assigned a name, a domain if necessary, a type, and, optionally, a description."
      ]
    },
    {
      "cell_type": "code",
      "execution_count": 7,
      "metadata": {
        "id": "Kj85LKuNCOGD"
      },
      "outputs": [],
      "source": [
        "x = Variable(\n",
        "    container=m,\n",
        "    name=\"x\",\n",
        "    domain=[i, j],\n",
        "    type=\"Positive\",\n",
        "    description=\"amount of commodity to ship from plant i to market j\",\n",
        ")"
      ]
    },
    {
      "cell_type": "markdown",
      "metadata": {
        "id": "9U1a9tF7COGD"
      },
      "source": [
        "This statement results in the declaration of a shipment variable for each (i,j) pair.\n",
        "\n",
        "More information on variables can be found in the [variable section](https://gamspy.readthedocs.io/en/latest/user/basics/variable.html) of our user guide."
      ]
    },
    {
      "cell_type": "markdown",
      "metadata": {
        "id": "UyjVQXaFCOGE"
      },
      "source": [
        "## Equations\n",
        "A GAMSPy ``Equation`` can be declared and defined in two separate statements (see [here](https://gamspy.readthedocs.io/en/latest/user/basics/equation.html#combining-equation-declaration-and-definition) how to do this in one statement). The format of the declaration is the same as for other GAMSPy symbols. First comes the keyword, `Equation` in this case, followed by the name, domain and text. The transportation problem has two constraints:\n",
        "\n",
        "Supply: observe supply limit at plant $i$: $\\sum_j x_{ij} \\le a_i \\: \\forall i$\n",
        "\n",
        "Demand: satisfy demand at market $j$: $\\sum_i x_{ij} \\ge b_j \\: \\forall j$"
      ]
    },
    {
      "cell_type": "code",
      "execution_count": 8,
      "metadata": {
        "id": "8RQ51A0ICOGE"
      },
      "outputs": [],
      "source": [
        "supply = Equation(\n",
        "    container=m, name=\"supply\", domain=i, description=\"observe supply limit at plant i\"\n",
        ")\n",
        "demand = Equation(\n",
        "    container=m, name=\"demand\", domain=j, description=\"satisfy demand at market j\"\n",
        ")"
      ]
    },
    {
      "cell_type": "markdown",
      "metadata": {
        "id": "-GlobQoJCOGE"
      },
      "source": [
        "The components of an ``Equation`` definition are:\n",
        "1. The Python variable of the ``Equation`` being defined\n",
        "2. The domain (optional)\n",
        "3. Domain restricting conditions (optional)\n",
        "4. A `=` sign\n",
        "5. Left hand side expression\n",
        "6. Relational operator (`==`, `<=`, `>=`)\n",
        "7. The right hand side expression.\n",
        "\n",
        "The ``Equation`` definition for the supply constraint of the transportation problem is implemented as follows:"
      ]
    },
    {
      "cell_type": "code",
      "execution_count": 9,
      "metadata": {
        "id": "tSQFcdYACOGE"
      },
      "outputs": [],
      "source": [
        "supply[i] = Sum(j, x[i, j]) <= a[i]"
      ]
    },
    {
      "cell_type": "markdown",
      "metadata": {
        "id": "01Jmd8xxCOGE"
      },
      "source": [
        "Using the same logic as above, we can define the demand equation as follows:"
      ]
    },
    {
      "cell_type": "code",
      "execution_count": 10,
      "metadata": {
        "id": "hF_PypcJCOGG"
      },
      "outputs": [],
      "source": [
        "demand[j] = Sum(i, x[i, j]) == b[j]"
      ]
    },
    {
      "cell_type": "markdown",
      "metadata": {
        "id": "YV16QPHCCOGG"
      },
      "source": [
        "The LaTeX representation of the equation can be retrieved with equation.latexRepr()"
      ]
    },
    {
      "cell_type": "code",
      "execution_count": 11,
      "metadata": {
        "id": "2mN4CQioCOGG",
        "outputId": "7faa7b95-175e-44d2-e306-63a04d0152f4",
        "colab": {
          "base_uri": "https://localhost:8080/"
        }
      },
      "outputs": [
        {
          "output_type": "stream",
          "name": "stdout",
          "text": [
            "$\n",
            "\\sum_{i} x_{i,j} \\geq b_{j}\\hfill \\forall j\n",
            "$\n"
          ]
        }
      ],
      "source": [
        "print(demand.latexRepr())"
      ]
    },
    {
      "cell_type": "markdown",
      "metadata": {
        "id": "Fu_lTF7aCOGG"
      },
      "source": [
        "\\begin{equation*}\n",
        "\\sum_{i} x_{i,j} \\geq b_{j}\\qquad \\forall j\n",
        "\\end{equation*}"
      ]
    },
    {
      "cell_type": "markdown",
      "metadata": {
        "id": "uyJTXRo9COGG"
      },
      "source": [
        "More information on equations is given in the [equation section](https://gamspy.readthedocs.io/en/latest/user/basics/equation.html) of our user guide."
      ]
    },
    {
      "cell_type": "markdown",
      "metadata": {
        "id": "hAaM8-6hCOGG"
      },
      "source": [
        "## Objective\n",
        "The objective function of a GAMSPy ``Model`` does not require a separate ``Equation`` declaration. You can either assign the objective expression to a Python variable or use it directly in the ``Model()`` statement of the [next section](#model). An alternative way of declaring the objective with a seperate Equation would look like the following:\n"
      ]
    },
    {
      "cell_type": "code",
      "execution_count": 12,
      "metadata": {
        "id": "19TtmD7_COGG"
      },
      "outputs": [],
      "source": [
        "obj = Sum((i, j), c[i, j] * x[i, j])"
      ]
    },
    {
      "cell_type": "markdown",
      "metadata": {
        "id": "UhdV_PpyCOGG"
      },
      "source": [
        "## Model\n",
        "\n",
        "A GAMSPy `Model()` consolidates constraints, an objective function, a sense (minimize, maximize, and feasibility), and a problem type. It also possesses a name and is associated with a ``Container``.\n",
        "\n",
        "To define our transportation problem as a GAMSPy ``Model``, we assign it to a Python variable, link it to our ``Container`` (populated with symbols and data), name it \"transport\", specify the equations, set the problem type as linear program (LP), specify the sense of the objective function (``Sense.MIN``), and point to the objective expression.\n",
        "\n",
        "GAMSPy allows two alternatives to assign equations to a `Model`:\n",
        "1. Using a list of equations,\n",
        "2. Retrieving _all_ equations by calling `m.getEquations()`.\n",
        "\n",
        "### Using a List of Equations\n",
        "Using a list of equations is especially useful if you want to define multiple GAMSPy ``Model``s with a subset of the  equations in your ``Container``. For the transportation problem this can be done as follows:"
      ]
    },
    {
      "cell_type": "code",
      "execution_count": 13,
      "metadata": {
        "id": "DOlPm1hpCOGH"
      },
      "outputs": [],
      "source": [
        "transport = Model(\n",
        "    m,\n",
        "    name=\"transport\",\n",
        "    equations=[supply, demand],\n",
        "    problem=\"LP\",\n",
        "    sense=Sense.MIN,\n",
        "    objective=obj,\n",
        ")"
      ]
    },
    {
      "cell_type": "markdown",
      "metadata": {
        "id": "uo87FSvwCOGH"
      },
      "source": [
        "### Retrieving all Equations\n",
        "Using `m.getEquations()` is especially convenient if you want to include all equations of your ``Container`` to be associated with your model. For the transportation problem this can be done as follows:"
      ]
    },
    {
      "cell_type": "code",
      "execution_count": 14,
      "metadata": {
        "id": "fI50LWuuCOGH"
      },
      "outputs": [],
      "source": [
        "transport = Model(\n",
        "    m,\n",
        "    name=\"transport\",\n",
        "    equations=m.getEquations(),\n",
        "    problem=\"LP\",\n",
        "    sense=Sense.MIN,\n",
        "    objective=obj,\n",
        ")"
      ]
    },
    {
      "cell_type": "markdown",
      "metadata": {
        "id": "i0oyl0sMCOGH"
      },
      "source": [
        "More information on the usage of a GAMSPy `Model` can be found in the [model section](https://gamspy.readthedocs.io/en/latest/user/basics/model.html) of our user guide."
      ]
    },
    {
      "cell_type": "markdown",
      "metadata": {
        "id": "YHLGedoACOGH"
      },
      "source": [
        "## Data\n",
        "\n",
        "Before solving our model, let's set the data of the model using either Python primitives (i.e. list, tuple etc.) or the [Pandas library](https://pandas.pydata.org/). We'll begin by organizing the necessary information, which we will subsequently feed into our optimization model. There are two ways to declare symbols:\n",
        "\n",
        "1. Separate declaration and data assignment\n",
        "2. Combine declaration and data assignment\n",
        "\n",
        "#### Separate declaration and data assignment"
      ]
    },
    {
      "cell_type": "code",
      "execution_count": 15,
      "metadata": {
        "id": "U45yqNmWCOGH",
        "outputId": "11a726ce-ee1f-4f91-c155-113178e59fee",
        "colab": {
          "base_uri": "https://localhost:8080/",
          "height": 112
        }
      },
      "outputs": [
        {
          "output_type": "execute_result",
          "data": {
            "text/plain": [
              "         uni element_text\n",
              "0    seattle             \n",
              "1  san-diego             "
            ],
            "text/html": [
              "\n",
              "  <div id=\"df-bc64db15-8495-43e9-bce7-89cd8e3b3528\" class=\"colab-df-container\">\n",
              "    <div>\n",
              "<style scoped>\n",
              "    .dataframe tbody tr th:only-of-type {\n",
              "        vertical-align: middle;\n",
              "    }\n",
              "\n",
              "    .dataframe tbody tr th {\n",
              "        vertical-align: top;\n",
              "    }\n",
              "\n",
              "    .dataframe thead th {\n",
              "        text-align: right;\n",
              "    }\n",
              "</style>\n",
              "<table border=\"1\" class=\"dataframe\">\n",
              "  <thead>\n",
              "    <tr style=\"text-align: right;\">\n",
              "      <th></th>\n",
              "      <th>uni</th>\n",
              "      <th>element_text</th>\n",
              "    </tr>\n",
              "  </thead>\n",
              "  <tbody>\n",
              "    <tr>\n",
              "      <th>0</th>\n",
              "      <td>seattle</td>\n",
              "      <td></td>\n",
              "    </tr>\n",
              "    <tr>\n",
              "      <th>1</th>\n",
              "      <td>san-diego</td>\n",
              "      <td></td>\n",
              "    </tr>\n",
              "  </tbody>\n",
              "</table>\n",
              "</div>\n",
              "    <div class=\"colab-df-buttons\">\n",
              "\n",
              "  <div class=\"colab-df-container\">\n",
              "    <button class=\"colab-df-convert\" onclick=\"convertToInteractive('df-bc64db15-8495-43e9-bce7-89cd8e3b3528')\"\n",
              "            title=\"Convert this dataframe to an interactive table.\"\n",
              "            style=\"display:none;\">\n",
              "\n",
              "  <svg xmlns=\"http://www.w3.org/2000/svg\" height=\"24px\" viewBox=\"0 -960 960 960\">\n",
              "    <path d=\"M120-120v-720h720v720H120Zm60-500h600v-160H180v160Zm220 220h160v-160H400v160Zm0 220h160v-160H400v160ZM180-400h160v-160H180v160Zm440 0h160v-160H620v160ZM180-180h160v-160H180v160Zm440 0h160v-160H620v160Z\"/>\n",
              "  </svg>\n",
              "    </button>\n",
              "\n",
              "  <style>\n",
              "    .colab-df-container {\n",
              "      display:flex;\n",
              "      gap: 12px;\n",
              "    }\n",
              "\n",
              "    .colab-df-convert {\n",
              "      background-color: #E8F0FE;\n",
              "      border: none;\n",
              "      border-radius: 50%;\n",
              "      cursor: pointer;\n",
              "      display: none;\n",
              "      fill: #1967D2;\n",
              "      height: 32px;\n",
              "      padding: 0 0 0 0;\n",
              "      width: 32px;\n",
              "    }\n",
              "\n",
              "    .colab-df-convert:hover {\n",
              "      background-color: #E2EBFA;\n",
              "      box-shadow: 0px 1px 2px rgba(60, 64, 67, 0.3), 0px 1px 3px 1px rgba(60, 64, 67, 0.15);\n",
              "      fill: #174EA6;\n",
              "    }\n",
              "\n",
              "    .colab-df-buttons div {\n",
              "      margin-bottom: 4px;\n",
              "    }\n",
              "\n",
              "    [theme=dark] .colab-df-convert {\n",
              "      background-color: #3B4455;\n",
              "      fill: #D2E3FC;\n",
              "    }\n",
              "\n",
              "    [theme=dark] .colab-df-convert:hover {\n",
              "      background-color: #434B5C;\n",
              "      box-shadow: 0px 1px 3px 1px rgba(0, 0, 0, 0.15);\n",
              "      filter: drop-shadow(0px 1px 2px rgba(0, 0, 0, 0.3));\n",
              "      fill: #FFFFFF;\n",
              "    }\n",
              "  </style>\n",
              "\n",
              "    <script>\n",
              "      const buttonEl =\n",
              "        document.querySelector('#df-bc64db15-8495-43e9-bce7-89cd8e3b3528 button.colab-df-convert');\n",
              "      buttonEl.style.display =\n",
              "        google.colab.kernel.accessAllowed ? 'block' : 'none';\n",
              "\n",
              "      async function convertToInteractive(key) {\n",
              "        const element = document.querySelector('#df-bc64db15-8495-43e9-bce7-89cd8e3b3528');\n",
              "        const dataTable =\n",
              "          await google.colab.kernel.invokeFunction('convertToInteractive',\n",
              "                                                    [key], {});\n",
              "        if (!dataTable) return;\n",
              "\n",
              "        const docLinkHtml = 'Like what you see? Visit the ' +\n",
              "          '<a target=\"_blank\" href=https://colab.research.google.com/notebooks/data_table.ipynb>data table notebook</a>'\n",
              "          + ' to learn more about interactive tables.';\n",
              "        element.innerHTML = '';\n",
              "        dataTable['output_type'] = 'display_data';\n",
              "        await google.colab.output.renderOutput(dataTable, element);\n",
              "        const docLink = document.createElement('div');\n",
              "        docLink.innerHTML = docLinkHtml;\n",
              "        element.appendChild(docLink);\n",
              "      }\n",
              "    </script>\n",
              "  </div>\n",
              "\n",
              "\n",
              "<div id=\"df-ef687654-3dad-49b3-8933-d86de94adf3a\">\n",
              "  <button class=\"colab-df-quickchart\" onclick=\"quickchart('df-ef687654-3dad-49b3-8933-d86de94adf3a')\"\n",
              "            title=\"Suggest charts\"\n",
              "            style=\"display:none;\">\n",
              "\n",
              "<svg xmlns=\"http://www.w3.org/2000/svg\" height=\"24px\"viewBox=\"0 0 24 24\"\n",
              "     width=\"24px\">\n",
              "    <g>\n",
              "        <path d=\"M19 3H5c-1.1 0-2 .9-2 2v14c0 1.1.9 2 2 2h14c1.1 0 2-.9 2-2V5c0-1.1-.9-2-2-2zM9 17H7v-7h2v7zm4 0h-2V7h2v10zm4 0h-2v-4h2v4z\"/>\n",
              "    </g>\n",
              "</svg>\n",
              "  </button>\n",
              "\n",
              "<style>\n",
              "  .colab-df-quickchart {\n",
              "      --bg-color: #E8F0FE;\n",
              "      --fill-color: #1967D2;\n",
              "      --hover-bg-color: #E2EBFA;\n",
              "      --hover-fill-color: #174EA6;\n",
              "      --disabled-fill-color: #AAA;\n",
              "      --disabled-bg-color: #DDD;\n",
              "  }\n",
              "\n",
              "  [theme=dark] .colab-df-quickchart {\n",
              "      --bg-color: #3B4455;\n",
              "      --fill-color: #D2E3FC;\n",
              "      --hover-bg-color: #434B5C;\n",
              "      --hover-fill-color: #FFFFFF;\n",
              "      --disabled-bg-color: #3B4455;\n",
              "      --disabled-fill-color: #666;\n",
              "  }\n",
              "\n",
              "  .colab-df-quickchart {\n",
              "    background-color: var(--bg-color);\n",
              "    border: none;\n",
              "    border-radius: 50%;\n",
              "    cursor: pointer;\n",
              "    display: none;\n",
              "    fill: var(--fill-color);\n",
              "    height: 32px;\n",
              "    padding: 0;\n",
              "    width: 32px;\n",
              "  }\n",
              "\n",
              "  .colab-df-quickchart:hover {\n",
              "    background-color: var(--hover-bg-color);\n",
              "    box-shadow: 0 1px 2px rgba(60, 64, 67, 0.3), 0 1px 3px 1px rgba(60, 64, 67, 0.15);\n",
              "    fill: var(--button-hover-fill-color);\n",
              "  }\n",
              "\n",
              "  .colab-df-quickchart-complete:disabled,\n",
              "  .colab-df-quickchart-complete:disabled:hover {\n",
              "    background-color: var(--disabled-bg-color);\n",
              "    fill: var(--disabled-fill-color);\n",
              "    box-shadow: none;\n",
              "  }\n",
              "\n",
              "  .colab-df-spinner {\n",
              "    border: 2px solid var(--fill-color);\n",
              "    border-color: transparent;\n",
              "    border-bottom-color: var(--fill-color);\n",
              "    animation:\n",
              "      spin 1s steps(1) infinite;\n",
              "  }\n",
              "\n",
              "  @keyframes spin {\n",
              "    0% {\n",
              "      border-color: transparent;\n",
              "      border-bottom-color: var(--fill-color);\n",
              "      border-left-color: var(--fill-color);\n",
              "    }\n",
              "    20% {\n",
              "      border-color: transparent;\n",
              "      border-left-color: var(--fill-color);\n",
              "      border-top-color: var(--fill-color);\n",
              "    }\n",
              "    30% {\n",
              "      border-color: transparent;\n",
              "      border-left-color: var(--fill-color);\n",
              "      border-top-color: var(--fill-color);\n",
              "      border-right-color: var(--fill-color);\n",
              "    }\n",
              "    40% {\n",
              "      border-color: transparent;\n",
              "      border-right-color: var(--fill-color);\n",
              "      border-top-color: var(--fill-color);\n",
              "    }\n",
              "    60% {\n",
              "      border-color: transparent;\n",
              "      border-right-color: var(--fill-color);\n",
              "    }\n",
              "    80% {\n",
              "      border-color: transparent;\n",
              "      border-right-color: var(--fill-color);\n",
              "      border-bottom-color: var(--fill-color);\n",
              "    }\n",
              "    90% {\n",
              "      border-color: transparent;\n",
              "      border-bottom-color: var(--fill-color);\n",
              "    }\n",
              "  }\n",
              "</style>\n",
              "\n",
              "  <script>\n",
              "    async function quickchart(key) {\n",
              "      const quickchartButtonEl =\n",
              "        document.querySelector('#' + key + ' button');\n",
              "      quickchartButtonEl.disabled = true;  // To prevent multiple clicks.\n",
              "      quickchartButtonEl.classList.add('colab-df-spinner');\n",
              "      try {\n",
              "        const charts = await google.colab.kernel.invokeFunction(\n",
              "            'suggestCharts', [key], {});\n",
              "      } catch (error) {\n",
              "        console.error('Error during call to suggestCharts:', error);\n",
              "      }\n",
              "      quickchartButtonEl.classList.remove('colab-df-spinner');\n",
              "      quickchartButtonEl.classList.add('colab-df-quickchart-complete');\n",
              "    }\n",
              "    (() => {\n",
              "      let quickchartButtonEl =\n",
              "        document.querySelector('#df-ef687654-3dad-49b3-8933-d86de94adf3a button');\n",
              "      quickchartButtonEl.style.display =\n",
              "        google.colab.kernel.accessAllowed ? 'block' : 'none';\n",
              "    })();\n",
              "  </script>\n",
              "</div>\n",
              "\n",
              "    </div>\n",
              "  </div>\n"
            ],
            "application/vnd.google.colaboratory.intrinsic+json": {
              "type": "dataframe",
              "summary": "{\n  \"name\": \"i\",\n  \"rows\": 2,\n  \"fields\": [\n    {\n      \"column\": \"uni\",\n      \"properties\": {\n        \"dtype\": \"category\",\n        \"num_unique_values\": 2,\n        \"samples\": [\n          \"san-diego\",\n          \"seattle\"\n        ],\n        \"semantic_type\": \"\",\n        \"description\": \"\"\n      }\n    },\n    {\n      \"column\": \"element_text\",\n      \"properties\": {\n        \"dtype\": \"object\",\n        \"num_unique_values\": 1,\n        \"samples\": [\n          \"\"\n        ],\n        \"semantic_type\": \"\",\n        \"description\": \"\"\n      }\n    }\n  ]\n}"
            }
          },
          "metadata": {},
          "execution_count": 15
        }
      ],
      "source": [
        "i.setRecords(['seattle', 'san-diego'])\n",
        "j.setRecords(['new-york', 'chicago', 'topeka'])\n",
        "a.setRecords([(\"seattle\", 350), (\"san-diego\", 600)])\n",
        "b.setRecords([(\"new-york\", 325), (\"chicago\", 300), (\"topeka\", 275)])\n",
        "i.records"
      ]
    },
    {
      "cell_type": "markdown",
      "metadata": {
        "id": "y0uyKTnvCOGI"
      },
      "source": [
        "We assigned members to the sets, establishing a clear connection between the abstract sets and their real-world counterparts.\n",
        "\n",
        "$i$ = {Seattle, San Diego}\n",
        "\n",
        "$j$ = {New York, Chicago, Topeka}\n",
        "\n",
        "To verify the content of a set, you can use `<set name>.records`."
      ]
    },
    {
      "cell_type": "markdown",
      "metadata": {
        "id": "OCcsJ619COGI"
      },
      "source": [
        "#### Combine declaration and data assignment"
      ]
    },
    {
      "cell_type": "code",
      "execution_count": 16,
      "metadata": {
        "id": "kLM_rhvzCOGI",
        "outputId": "8d62f059-57d0-49e7-c91f-8aabbd33ba3a",
        "colab": {
          "base_uri": "https://localhost:8080/",
          "height": 238
        }
      },
      "outputs": [
        {
          "output_type": "execute_result",
          "data": {
            "text/plain": [
              "        from        to  value\n",
              "0    seattle  new-york    2.5\n",
              "1    seattle   chicago    1.7\n",
              "2    seattle    topeka    1.8\n",
              "3  san-diego  new-york    2.5\n",
              "4  san-diego   chicago    1.8\n",
              "5  san-diego    topeka    1.4"
            ],
            "text/html": [
              "\n",
              "  <div id=\"df-3bc66c31-4cfd-4e76-8d82-0992db90c05f\" class=\"colab-df-container\">\n",
              "    <div>\n",
              "<style scoped>\n",
              "    .dataframe tbody tr th:only-of-type {\n",
              "        vertical-align: middle;\n",
              "    }\n",
              "\n",
              "    .dataframe tbody tr th {\n",
              "        vertical-align: top;\n",
              "    }\n",
              "\n",
              "    .dataframe thead th {\n",
              "        text-align: right;\n",
              "    }\n",
              "</style>\n",
              "<table border=\"1\" class=\"dataframe\">\n",
              "  <thead>\n",
              "    <tr style=\"text-align: right;\">\n",
              "      <th></th>\n",
              "      <th>from</th>\n",
              "      <th>to</th>\n",
              "      <th>value</th>\n",
              "    </tr>\n",
              "  </thead>\n",
              "  <tbody>\n",
              "    <tr>\n",
              "      <th>0</th>\n",
              "      <td>seattle</td>\n",
              "      <td>new-york</td>\n",
              "      <td>2.5</td>\n",
              "    </tr>\n",
              "    <tr>\n",
              "      <th>1</th>\n",
              "      <td>seattle</td>\n",
              "      <td>chicago</td>\n",
              "      <td>1.7</td>\n",
              "    </tr>\n",
              "    <tr>\n",
              "      <th>2</th>\n",
              "      <td>seattle</td>\n",
              "      <td>topeka</td>\n",
              "      <td>1.8</td>\n",
              "    </tr>\n",
              "    <tr>\n",
              "      <th>3</th>\n",
              "      <td>san-diego</td>\n",
              "      <td>new-york</td>\n",
              "      <td>2.5</td>\n",
              "    </tr>\n",
              "    <tr>\n",
              "      <th>4</th>\n",
              "      <td>san-diego</td>\n",
              "      <td>chicago</td>\n",
              "      <td>1.8</td>\n",
              "    </tr>\n",
              "    <tr>\n",
              "      <th>5</th>\n",
              "      <td>san-diego</td>\n",
              "      <td>topeka</td>\n",
              "      <td>1.4</td>\n",
              "    </tr>\n",
              "  </tbody>\n",
              "</table>\n",
              "</div>\n",
              "    <div class=\"colab-df-buttons\">\n",
              "\n",
              "  <div class=\"colab-df-container\">\n",
              "    <button class=\"colab-df-convert\" onclick=\"convertToInteractive('df-3bc66c31-4cfd-4e76-8d82-0992db90c05f')\"\n",
              "            title=\"Convert this dataframe to an interactive table.\"\n",
              "            style=\"display:none;\">\n",
              "\n",
              "  <svg xmlns=\"http://www.w3.org/2000/svg\" height=\"24px\" viewBox=\"0 -960 960 960\">\n",
              "    <path d=\"M120-120v-720h720v720H120Zm60-500h600v-160H180v160Zm220 220h160v-160H400v160Zm0 220h160v-160H400v160ZM180-400h160v-160H180v160Zm440 0h160v-160H620v160ZM180-180h160v-160H180v160Zm440 0h160v-160H620v160Z\"/>\n",
              "  </svg>\n",
              "    </button>\n",
              "\n",
              "  <style>\n",
              "    .colab-df-container {\n",
              "      display:flex;\n",
              "      gap: 12px;\n",
              "    }\n",
              "\n",
              "    .colab-df-convert {\n",
              "      background-color: #E8F0FE;\n",
              "      border: none;\n",
              "      border-radius: 50%;\n",
              "      cursor: pointer;\n",
              "      display: none;\n",
              "      fill: #1967D2;\n",
              "      height: 32px;\n",
              "      padding: 0 0 0 0;\n",
              "      width: 32px;\n",
              "    }\n",
              "\n",
              "    .colab-df-convert:hover {\n",
              "      background-color: #E2EBFA;\n",
              "      box-shadow: 0px 1px 2px rgba(60, 64, 67, 0.3), 0px 1px 3px 1px rgba(60, 64, 67, 0.15);\n",
              "      fill: #174EA6;\n",
              "    }\n",
              "\n",
              "    .colab-df-buttons div {\n",
              "      margin-bottom: 4px;\n",
              "    }\n",
              "\n",
              "    [theme=dark] .colab-df-convert {\n",
              "      background-color: #3B4455;\n",
              "      fill: #D2E3FC;\n",
              "    }\n",
              "\n",
              "    [theme=dark] .colab-df-convert:hover {\n",
              "      background-color: #434B5C;\n",
              "      box-shadow: 0px 1px 3px 1px rgba(0, 0, 0, 0.15);\n",
              "      filter: drop-shadow(0px 1px 2px rgba(0, 0, 0, 0.3));\n",
              "      fill: #FFFFFF;\n",
              "    }\n",
              "  </style>\n",
              "\n",
              "    <script>\n",
              "      const buttonEl =\n",
              "        document.querySelector('#df-3bc66c31-4cfd-4e76-8d82-0992db90c05f button.colab-df-convert');\n",
              "      buttonEl.style.display =\n",
              "        google.colab.kernel.accessAllowed ? 'block' : 'none';\n",
              "\n",
              "      async function convertToInteractive(key) {\n",
              "        const element = document.querySelector('#df-3bc66c31-4cfd-4e76-8d82-0992db90c05f');\n",
              "        const dataTable =\n",
              "          await google.colab.kernel.invokeFunction('convertToInteractive',\n",
              "                                                    [key], {});\n",
              "        if (!dataTable) return;\n",
              "\n",
              "        const docLinkHtml = 'Like what you see? Visit the ' +\n",
              "          '<a target=\"_blank\" href=https://colab.research.google.com/notebooks/data_table.ipynb>data table notebook</a>'\n",
              "          + ' to learn more about interactive tables.';\n",
              "        element.innerHTML = '';\n",
              "        dataTable['output_type'] = 'display_data';\n",
              "        await google.colab.output.renderOutput(dataTable, element);\n",
              "        const docLink = document.createElement('div');\n",
              "        docLink.innerHTML = docLinkHtml;\n",
              "        element.appendChild(docLink);\n",
              "      }\n",
              "    </script>\n",
              "  </div>\n",
              "\n",
              "\n",
              "<div id=\"df-3b32ec53-4281-4dcf-9a2f-0fc4743148e7\">\n",
              "  <button class=\"colab-df-quickchart\" onclick=\"quickchart('df-3b32ec53-4281-4dcf-9a2f-0fc4743148e7')\"\n",
              "            title=\"Suggest charts\"\n",
              "            style=\"display:none;\">\n",
              "\n",
              "<svg xmlns=\"http://www.w3.org/2000/svg\" height=\"24px\"viewBox=\"0 0 24 24\"\n",
              "     width=\"24px\">\n",
              "    <g>\n",
              "        <path d=\"M19 3H5c-1.1 0-2 .9-2 2v14c0 1.1.9 2 2 2h14c1.1 0 2-.9 2-2V5c0-1.1-.9-2-2-2zM9 17H7v-7h2v7zm4 0h-2V7h2v10zm4 0h-2v-4h2v4z\"/>\n",
              "    </g>\n",
              "</svg>\n",
              "  </button>\n",
              "\n",
              "<style>\n",
              "  .colab-df-quickchart {\n",
              "      --bg-color: #E8F0FE;\n",
              "      --fill-color: #1967D2;\n",
              "      --hover-bg-color: #E2EBFA;\n",
              "      --hover-fill-color: #174EA6;\n",
              "      --disabled-fill-color: #AAA;\n",
              "      --disabled-bg-color: #DDD;\n",
              "  }\n",
              "\n",
              "  [theme=dark] .colab-df-quickchart {\n",
              "      --bg-color: #3B4455;\n",
              "      --fill-color: #D2E3FC;\n",
              "      --hover-bg-color: #434B5C;\n",
              "      --hover-fill-color: #FFFFFF;\n",
              "      --disabled-bg-color: #3B4455;\n",
              "      --disabled-fill-color: #666;\n",
              "  }\n",
              "\n",
              "  .colab-df-quickchart {\n",
              "    background-color: var(--bg-color);\n",
              "    border: none;\n",
              "    border-radius: 50%;\n",
              "    cursor: pointer;\n",
              "    display: none;\n",
              "    fill: var(--fill-color);\n",
              "    height: 32px;\n",
              "    padding: 0;\n",
              "    width: 32px;\n",
              "  }\n",
              "\n",
              "  .colab-df-quickchart:hover {\n",
              "    background-color: var(--hover-bg-color);\n",
              "    box-shadow: 0 1px 2px rgba(60, 64, 67, 0.3), 0 1px 3px 1px rgba(60, 64, 67, 0.15);\n",
              "    fill: var(--button-hover-fill-color);\n",
              "  }\n",
              "\n",
              "  .colab-df-quickchart-complete:disabled,\n",
              "  .colab-df-quickchart-complete:disabled:hover {\n",
              "    background-color: var(--disabled-bg-color);\n",
              "    fill: var(--disabled-fill-color);\n",
              "    box-shadow: none;\n",
              "  }\n",
              "\n",
              "  .colab-df-spinner {\n",
              "    border: 2px solid var(--fill-color);\n",
              "    border-color: transparent;\n",
              "    border-bottom-color: var(--fill-color);\n",
              "    animation:\n",
              "      spin 1s steps(1) infinite;\n",
              "  }\n",
              "\n",
              "  @keyframes spin {\n",
              "    0% {\n",
              "      border-color: transparent;\n",
              "      border-bottom-color: var(--fill-color);\n",
              "      border-left-color: var(--fill-color);\n",
              "    }\n",
              "    20% {\n",
              "      border-color: transparent;\n",
              "      border-left-color: var(--fill-color);\n",
              "      border-top-color: var(--fill-color);\n",
              "    }\n",
              "    30% {\n",
              "      border-color: transparent;\n",
              "      border-left-color: var(--fill-color);\n",
              "      border-top-color: var(--fill-color);\n",
              "      border-right-color: var(--fill-color);\n",
              "    }\n",
              "    40% {\n",
              "      border-color: transparent;\n",
              "      border-right-color: var(--fill-color);\n",
              "      border-top-color: var(--fill-color);\n",
              "    }\n",
              "    60% {\n",
              "      border-color: transparent;\n",
              "      border-right-color: var(--fill-color);\n",
              "    }\n",
              "    80% {\n",
              "      border-color: transparent;\n",
              "      border-right-color: var(--fill-color);\n",
              "      border-bottom-color: var(--fill-color);\n",
              "    }\n",
              "    90% {\n",
              "      border-color: transparent;\n",
              "      border-bottom-color: var(--fill-color);\n",
              "    }\n",
              "  }\n",
              "</style>\n",
              "\n",
              "  <script>\n",
              "    async function quickchart(key) {\n",
              "      const quickchartButtonEl =\n",
              "        document.querySelector('#' + key + ' button');\n",
              "      quickchartButtonEl.disabled = true;  // To prevent multiple clicks.\n",
              "      quickchartButtonEl.classList.add('colab-df-spinner');\n",
              "      try {\n",
              "        const charts = await google.colab.kernel.invokeFunction(\n",
              "            'suggestCharts', [key], {});\n",
              "      } catch (error) {\n",
              "        console.error('Error during call to suggestCharts:', error);\n",
              "      }\n",
              "      quickchartButtonEl.classList.remove('colab-df-spinner');\n",
              "      quickchartButtonEl.classList.add('colab-df-quickchart-complete');\n",
              "    }\n",
              "    (() => {\n",
              "      let quickchartButtonEl =\n",
              "        document.querySelector('#df-3b32ec53-4281-4dcf-9a2f-0fc4743148e7 button');\n",
              "      quickchartButtonEl.style.display =\n",
              "        google.colab.kernel.accessAllowed ? 'block' : 'none';\n",
              "    })();\n",
              "  </script>\n",
              "</div>\n",
              "\n",
              "    </div>\n",
              "  </div>\n"
            ],
            "application/vnd.google.colaboratory.intrinsic+json": {
              "type": "dataframe",
              "summary": "{\n  \"name\": \"d\",\n  \"rows\": 6,\n  \"fields\": [\n    {\n      \"column\": \"from\",\n      \"properties\": {\n        \"dtype\": \"category\",\n        \"num_unique_values\": 2,\n        \"samples\": [\n          \"san-diego\",\n          \"seattle\"\n        ],\n        \"semantic_type\": \"\",\n        \"description\": \"\"\n      }\n    },\n    {\n      \"column\": \"to\",\n      \"properties\": {\n        \"dtype\": \"category\",\n        \"num_unique_values\": 3,\n        \"samples\": [\n          \"new-york\",\n          \"chicago\"\n        ],\n        \"semantic_type\": \"\",\n        \"description\": \"\"\n      }\n    },\n    {\n      \"column\": \"value\",\n      \"properties\": {\n        \"dtype\": \"number\",\n        \"std\": 0.4505552130427524,\n        \"min\": 1.4,\n        \"max\": 2.5,\n        \"num_unique_values\": 4,\n        \"samples\": [\n          1.7,\n          1.4\n        ],\n        \"semantic_type\": \"\",\n        \"description\": \"\"\n      }\n    }\n  ]\n}"
            }
          },
          "metadata": {},
          "execution_count": 16
        }
      ],
      "source": [
        "import pandas as pd\n",
        "\n",
        "distances = pd.DataFrame(\n",
        "    [\n",
        "        [\"seattle\", \"new-york\", 2.5],\n",
        "        [\"seattle\", \"chicago\", 1.7],\n",
        "        [\"seattle\", \"topeka\", 1.8],\n",
        "        [\"san-diego\", \"new-york\", 2.5],\n",
        "        [\"san-diego\", \"chicago\", 1.8],\n",
        "        [\"san-diego\", \"topeka\", 1.4],\n",
        "    ],\n",
        "    columns=[\"from\", \"to\", \"distance\"]\n",
        ").set_index([\"from\", \"to\"])\n",
        "d = Parameter(\n",
        "    container=m,\n",
        "    name=\"d\",\n",
        "    domain=[i, j],\n",
        "    description=\"distance between plant i and market j\",\n",
        "    records=distances.reset_index(),\n",
        ")\n",
        "d.records"
      ]
    },
    {
      "cell_type": "markdown",
      "metadata": {
        "id": "0TZEeLdUCOGI"
      },
      "source": [
        "The cost per unit of shipment between plant $i$ and market $j$ is derived from the distance between $i$ and $j$ and can be calculated as follows:\n",
        "\n",
        "$c_{ij} = \\frac{90 \\cdot d_{ij}}{1000}$,\n",
        "\n",
        "where $d_{ij}$ denotes the distance between $i$ and $j$.\n",
        "\n",
        "We have two options to calculate $c_{ij}$ and assign the data to the GAMSPy parameter:\n",
        "\n",
        "1. Python assignment - calculation in Python, e.g., using Pandas and `<parameter name>.setRecords()`\n",
        "2. GAMSPy assignment - calculation in GAMSPy\n",
        "\n",
        "#### Python Assignment"
      ]
    },
    {
      "cell_type": "code",
      "execution_count": 17,
      "metadata": {
        "id": "H6s0IuftCOGJ",
        "outputId": "9c32cbbb-29ab-4cc3-c56d-fca8f70b77de",
        "colab": {
          "base_uri": "https://localhost:8080/",
          "height": 238
        }
      },
      "outputs": [
        {
          "output_type": "execute_result",
          "data": {
            "text/plain": [
              "        from        to  value\n",
              "0    seattle  new-york  0.225\n",
              "1    seattle   chicago  0.153\n",
              "2    seattle    topeka  0.162\n",
              "3  san-diego  new-york  0.225\n",
              "4  san-diego   chicago  0.162\n",
              "5  san-diego    topeka  0.126"
            ],
            "text/html": [
              "\n",
              "  <div id=\"df-83439bd2-03f6-47d8-aacd-73764042201e\" class=\"colab-df-container\">\n",
              "    <div>\n",
              "<style scoped>\n",
              "    .dataframe tbody tr th:only-of-type {\n",
              "        vertical-align: middle;\n",
              "    }\n",
              "\n",
              "    .dataframe tbody tr th {\n",
              "        vertical-align: top;\n",
              "    }\n",
              "\n",
              "    .dataframe thead th {\n",
              "        text-align: right;\n",
              "    }\n",
              "</style>\n",
              "<table border=\"1\" class=\"dataframe\">\n",
              "  <thead>\n",
              "    <tr style=\"text-align: right;\">\n",
              "      <th></th>\n",
              "      <th>from</th>\n",
              "      <th>to</th>\n",
              "      <th>value</th>\n",
              "    </tr>\n",
              "  </thead>\n",
              "  <tbody>\n",
              "    <tr>\n",
              "      <th>0</th>\n",
              "      <td>seattle</td>\n",
              "      <td>new-york</td>\n",
              "      <td>0.225</td>\n",
              "    </tr>\n",
              "    <tr>\n",
              "      <th>1</th>\n",
              "      <td>seattle</td>\n",
              "      <td>chicago</td>\n",
              "      <td>0.153</td>\n",
              "    </tr>\n",
              "    <tr>\n",
              "      <th>2</th>\n",
              "      <td>seattle</td>\n",
              "      <td>topeka</td>\n",
              "      <td>0.162</td>\n",
              "    </tr>\n",
              "    <tr>\n",
              "      <th>3</th>\n",
              "      <td>san-diego</td>\n",
              "      <td>new-york</td>\n",
              "      <td>0.225</td>\n",
              "    </tr>\n",
              "    <tr>\n",
              "      <th>4</th>\n",
              "      <td>san-diego</td>\n",
              "      <td>chicago</td>\n",
              "      <td>0.162</td>\n",
              "    </tr>\n",
              "    <tr>\n",
              "      <th>5</th>\n",
              "      <td>san-diego</td>\n",
              "      <td>topeka</td>\n",
              "      <td>0.126</td>\n",
              "    </tr>\n",
              "  </tbody>\n",
              "</table>\n",
              "</div>\n",
              "    <div class=\"colab-df-buttons\">\n",
              "\n",
              "  <div class=\"colab-df-container\">\n",
              "    <button class=\"colab-df-convert\" onclick=\"convertToInteractive('df-83439bd2-03f6-47d8-aacd-73764042201e')\"\n",
              "            title=\"Convert this dataframe to an interactive table.\"\n",
              "            style=\"display:none;\">\n",
              "\n",
              "  <svg xmlns=\"http://www.w3.org/2000/svg\" height=\"24px\" viewBox=\"0 -960 960 960\">\n",
              "    <path d=\"M120-120v-720h720v720H120Zm60-500h600v-160H180v160Zm220 220h160v-160H400v160Zm0 220h160v-160H400v160ZM180-400h160v-160H180v160Zm440 0h160v-160H620v160ZM180-180h160v-160H180v160Zm440 0h160v-160H620v160Z\"/>\n",
              "  </svg>\n",
              "    </button>\n",
              "\n",
              "  <style>\n",
              "    .colab-df-container {\n",
              "      display:flex;\n",
              "      gap: 12px;\n",
              "    }\n",
              "\n",
              "    .colab-df-convert {\n",
              "      background-color: #E8F0FE;\n",
              "      border: none;\n",
              "      border-radius: 50%;\n",
              "      cursor: pointer;\n",
              "      display: none;\n",
              "      fill: #1967D2;\n",
              "      height: 32px;\n",
              "      padding: 0 0 0 0;\n",
              "      width: 32px;\n",
              "    }\n",
              "\n",
              "    .colab-df-convert:hover {\n",
              "      background-color: #E2EBFA;\n",
              "      box-shadow: 0px 1px 2px rgba(60, 64, 67, 0.3), 0px 1px 3px 1px rgba(60, 64, 67, 0.15);\n",
              "      fill: #174EA6;\n",
              "    }\n",
              "\n",
              "    .colab-df-buttons div {\n",
              "      margin-bottom: 4px;\n",
              "    }\n",
              "\n",
              "    [theme=dark] .colab-df-convert {\n",
              "      background-color: #3B4455;\n",
              "      fill: #D2E3FC;\n",
              "    }\n",
              "\n",
              "    [theme=dark] .colab-df-convert:hover {\n",
              "      background-color: #434B5C;\n",
              "      box-shadow: 0px 1px 3px 1px rgba(0, 0, 0, 0.15);\n",
              "      filter: drop-shadow(0px 1px 2px rgba(0, 0, 0, 0.3));\n",
              "      fill: #FFFFFF;\n",
              "    }\n",
              "  </style>\n",
              "\n",
              "    <script>\n",
              "      const buttonEl =\n",
              "        document.querySelector('#df-83439bd2-03f6-47d8-aacd-73764042201e button.colab-df-convert');\n",
              "      buttonEl.style.display =\n",
              "        google.colab.kernel.accessAllowed ? 'block' : 'none';\n",
              "\n",
              "      async function convertToInteractive(key) {\n",
              "        const element = document.querySelector('#df-83439bd2-03f6-47d8-aacd-73764042201e');\n",
              "        const dataTable =\n",
              "          await google.colab.kernel.invokeFunction('convertToInteractive',\n",
              "                                                    [key], {});\n",
              "        if (!dataTable) return;\n",
              "\n",
              "        const docLinkHtml = 'Like what you see? Visit the ' +\n",
              "          '<a target=\"_blank\" href=https://colab.research.google.com/notebooks/data_table.ipynb>data table notebook</a>'\n",
              "          + ' to learn more about interactive tables.';\n",
              "        element.innerHTML = '';\n",
              "        dataTable['output_type'] = 'display_data';\n",
              "        await google.colab.output.renderOutput(dataTable, element);\n",
              "        const docLink = document.createElement('div');\n",
              "        docLink.innerHTML = docLinkHtml;\n",
              "        element.appendChild(docLink);\n",
              "      }\n",
              "    </script>\n",
              "  </div>\n",
              "\n",
              "\n",
              "<div id=\"df-f5a19afb-d1ba-4449-a4bd-920f1e5fd355\">\n",
              "  <button class=\"colab-df-quickchart\" onclick=\"quickchart('df-f5a19afb-d1ba-4449-a4bd-920f1e5fd355')\"\n",
              "            title=\"Suggest charts\"\n",
              "            style=\"display:none;\">\n",
              "\n",
              "<svg xmlns=\"http://www.w3.org/2000/svg\" height=\"24px\"viewBox=\"0 0 24 24\"\n",
              "     width=\"24px\">\n",
              "    <g>\n",
              "        <path d=\"M19 3H5c-1.1 0-2 .9-2 2v14c0 1.1.9 2 2 2h14c1.1 0 2-.9 2-2V5c0-1.1-.9-2-2-2zM9 17H7v-7h2v7zm4 0h-2V7h2v10zm4 0h-2v-4h2v4z\"/>\n",
              "    </g>\n",
              "</svg>\n",
              "  </button>\n",
              "\n",
              "<style>\n",
              "  .colab-df-quickchart {\n",
              "      --bg-color: #E8F0FE;\n",
              "      --fill-color: #1967D2;\n",
              "      --hover-bg-color: #E2EBFA;\n",
              "      --hover-fill-color: #174EA6;\n",
              "      --disabled-fill-color: #AAA;\n",
              "      --disabled-bg-color: #DDD;\n",
              "  }\n",
              "\n",
              "  [theme=dark] .colab-df-quickchart {\n",
              "      --bg-color: #3B4455;\n",
              "      --fill-color: #D2E3FC;\n",
              "      --hover-bg-color: #434B5C;\n",
              "      --hover-fill-color: #FFFFFF;\n",
              "      --disabled-bg-color: #3B4455;\n",
              "      --disabled-fill-color: #666;\n",
              "  }\n",
              "\n",
              "  .colab-df-quickchart {\n",
              "    background-color: var(--bg-color);\n",
              "    border: none;\n",
              "    border-radius: 50%;\n",
              "    cursor: pointer;\n",
              "    display: none;\n",
              "    fill: var(--fill-color);\n",
              "    height: 32px;\n",
              "    padding: 0;\n",
              "    width: 32px;\n",
              "  }\n",
              "\n",
              "  .colab-df-quickchart:hover {\n",
              "    background-color: var(--hover-bg-color);\n",
              "    box-shadow: 0 1px 2px rgba(60, 64, 67, 0.3), 0 1px 3px 1px rgba(60, 64, 67, 0.15);\n",
              "    fill: var(--button-hover-fill-color);\n",
              "  }\n",
              "\n",
              "  .colab-df-quickchart-complete:disabled,\n",
              "  .colab-df-quickchart-complete:disabled:hover {\n",
              "    background-color: var(--disabled-bg-color);\n",
              "    fill: var(--disabled-fill-color);\n",
              "    box-shadow: none;\n",
              "  }\n",
              "\n",
              "  .colab-df-spinner {\n",
              "    border: 2px solid var(--fill-color);\n",
              "    border-color: transparent;\n",
              "    border-bottom-color: var(--fill-color);\n",
              "    animation:\n",
              "      spin 1s steps(1) infinite;\n",
              "  }\n",
              "\n",
              "  @keyframes spin {\n",
              "    0% {\n",
              "      border-color: transparent;\n",
              "      border-bottom-color: var(--fill-color);\n",
              "      border-left-color: var(--fill-color);\n",
              "    }\n",
              "    20% {\n",
              "      border-color: transparent;\n",
              "      border-left-color: var(--fill-color);\n",
              "      border-top-color: var(--fill-color);\n",
              "    }\n",
              "    30% {\n",
              "      border-color: transparent;\n",
              "      border-left-color: var(--fill-color);\n",
              "      border-top-color: var(--fill-color);\n",
              "      border-right-color: var(--fill-color);\n",
              "    }\n",
              "    40% {\n",
              "      border-color: transparent;\n",
              "      border-right-color: var(--fill-color);\n",
              "      border-top-color: var(--fill-color);\n",
              "    }\n",
              "    60% {\n",
              "      border-color: transparent;\n",
              "      border-right-color: var(--fill-color);\n",
              "    }\n",
              "    80% {\n",
              "      border-color: transparent;\n",
              "      border-right-color: var(--fill-color);\n",
              "      border-bottom-color: var(--fill-color);\n",
              "    }\n",
              "    90% {\n",
              "      border-color: transparent;\n",
              "      border-bottom-color: var(--fill-color);\n",
              "    }\n",
              "  }\n",
              "</style>\n",
              "\n",
              "  <script>\n",
              "    async function quickchart(key) {\n",
              "      const quickchartButtonEl =\n",
              "        document.querySelector('#' + key + ' button');\n",
              "      quickchartButtonEl.disabled = true;  // To prevent multiple clicks.\n",
              "      quickchartButtonEl.classList.add('colab-df-spinner');\n",
              "      try {\n",
              "        const charts = await google.colab.kernel.invokeFunction(\n",
              "            'suggestCharts', [key], {});\n",
              "      } catch (error) {\n",
              "        console.error('Error during call to suggestCharts:', error);\n",
              "      }\n",
              "      quickchartButtonEl.classList.remove('colab-df-spinner');\n",
              "      quickchartButtonEl.classList.add('colab-df-quickchart-complete');\n",
              "    }\n",
              "    (() => {\n",
              "      let quickchartButtonEl =\n",
              "        document.querySelector('#df-f5a19afb-d1ba-4449-a4bd-920f1e5fd355 button');\n",
              "      quickchartButtonEl.style.display =\n",
              "        google.colab.kernel.accessAllowed ? 'block' : 'none';\n",
              "    })();\n",
              "  </script>\n",
              "</div>\n",
              "\n",
              "    </div>\n",
              "  </div>\n"
            ],
            "application/vnd.google.colaboratory.intrinsic+json": {
              "type": "dataframe",
              "summary": "{\n  \"name\": \"c\",\n  \"rows\": 6,\n  \"fields\": [\n    {\n      \"column\": \"from\",\n      \"properties\": {\n        \"dtype\": \"category\",\n        \"num_unique_values\": 2,\n        \"samples\": [\n          \"san-diego\",\n          \"seattle\"\n        ],\n        \"semantic_type\": \"\",\n        \"description\": \"\"\n      }\n    },\n    {\n      \"column\": \"to\",\n      \"properties\": {\n        \"dtype\": \"category\",\n        \"num_unique_values\": 3,\n        \"samples\": [\n          \"new-york\",\n          \"chicago\"\n        ],\n        \"semantic_type\": \"\",\n        \"description\": \"\"\n      }\n    },\n    {\n      \"column\": \"value\",\n      \"properties\": {\n        \"dtype\": \"number\",\n        \"std\": 0.040549969173847726,\n        \"min\": 0.12599999999999997,\n        \"max\": 0.225,\n        \"num_unique_values\": 4,\n        \"samples\": [\n          0.153,\n          0.12599999999999997\n        ],\n        \"semantic_type\": \"\",\n        \"description\": \"\"\n      }\n    }\n  ]\n}"
            }
          },
          "metadata": {},
          "execution_count": 17
        }
      ],
      "source": [
        "freight_cost = 90\n",
        "cost = freight_cost * distances / 1000\n",
        "c.setRecords(cost.reset_index())\n",
        "c.records"
      ]
    },
    {
      "cell_type": "markdown",
      "metadata": {
        "id": "W7ravUPpCOGJ"
      },
      "source": [
        "#### GAMSPy Assignment"
      ]
    },
    {
      "cell_type": "code",
      "execution_count": 18,
      "metadata": {
        "id": "4ehUbJisCOGJ",
        "outputId": "8375e7ed-e0ce-4998-f782-a1518d5c97f8",
        "colab": {
          "base_uri": "https://localhost:8080/",
          "height": 238
        }
      },
      "outputs": [
        {
          "output_type": "execute_result",
          "data": {
            "text/plain": [
              "           i         j  value\n",
              "0    seattle  new-york  0.225\n",
              "1    seattle   chicago  0.153\n",
              "2    seattle    topeka  0.162\n",
              "3  san-diego  new-york  0.225\n",
              "4  san-diego   chicago  0.162\n",
              "5  san-diego    topeka  0.126"
            ],
            "text/html": [
              "\n",
              "  <div id=\"df-bdb5060d-b142-439a-8d5b-241df028accb\" class=\"colab-df-container\">\n",
              "    <div>\n",
              "<style scoped>\n",
              "    .dataframe tbody tr th:only-of-type {\n",
              "        vertical-align: middle;\n",
              "    }\n",
              "\n",
              "    .dataframe tbody tr th {\n",
              "        vertical-align: top;\n",
              "    }\n",
              "\n",
              "    .dataframe thead th {\n",
              "        text-align: right;\n",
              "    }\n",
              "</style>\n",
              "<table border=\"1\" class=\"dataframe\">\n",
              "  <thead>\n",
              "    <tr style=\"text-align: right;\">\n",
              "      <th></th>\n",
              "      <th>i</th>\n",
              "      <th>j</th>\n",
              "      <th>value</th>\n",
              "    </tr>\n",
              "  </thead>\n",
              "  <tbody>\n",
              "    <tr>\n",
              "      <th>0</th>\n",
              "      <td>seattle</td>\n",
              "      <td>new-york</td>\n",
              "      <td>0.225</td>\n",
              "    </tr>\n",
              "    <tr>\n",
              "      <th>1</th>\n",
              "      <td>seattle</td>\n",
              "      <td>chicago</td>\n",
              "      <td>0.153</td>\n",
              "    </tr>\n",
              "    <tr>\n",
              "      <th>2</th>\n",
              "      <td>seattle</td>\n",
              "      <td>topeka</td>\n",
              "      <td>0.162</td>\n",
              "    </tr>\n",
              "    <tr>\n",
              "      <th>3</th>\n",
              "      <td>san-diego</td>\n",
              "      <td>new-york</td>\n",
              "      <td>0.225</td>\n",
              "    </tr>\n",
              "    <tr>\n",
              "      <th>4</th>\n",
              "      <td>san-diego</td>\n",
              "      <td>chicago</td>\n",
              "      <td>0.162</td>\n",
              "    </tr>\n",
              "    <tr>\n",
              "      <th>5</th>\n",
              "      <td>san-diego</td>\n",
              "      <td>topeka</td>\n",
              "      <td>0.126</td>\n",
              "    </tr>\n",
              "  </tbody>\n",
              "</table>\n",
              "</div>\n",
              "    <div class=\"colab-df-buttons\">\n",
              "\n",
              "  <div class=\"colab-df-container\">\n",
              "    <button class=\"colab-df-convert\" onclick=\"convertToInteractive('df-bdb5060d-b142-439a-8d5b-241df028accb')\"\n",
              "            title=\"Convert this dataframe to an interactive table.\"\n",
              "            style=\"display:none;\">\n",
              "\n",
              "  <svg xmlns=\"http://www.w3.org/2000/svg\" height=\"24px\" viewBox=\"0 -960 960 960\">\n",
              "    <path d=\"M120-120v-720h720v720H120Zm60-500h600v-160H180v160Zm220 220h160v-160H400v160Zm0 220h160v-160H400v160ZM180-400h160v-160H180v160Zm440 0h160v-160H620v160ZM180-180h160v-160H180v160Zm440 0h160v-160H620v160Z\"/>\n",
              "  </svg>\n",
              "    </button>\n",
              "\n",
              "  <style>\n",
              "    .colab-df-container {\n",
              "      display:flex;\n",
              "      gap: 12px;\n",
              "    }\n",
              "\n",
              "    .colab-df-convert {\n",
              "      background-color: #E8F0FE;\n",
              "      border: none;\n",
              "      border-radius: 50%;\n",
              "      cursor: pointer;\n",
              "      display: none;\n",
              "      fill: #1967D2;\n",
              "      height: 32px;\n",
              "      padding: 0 0 0 0;\n",
              "      width: 32px;\n",
              "    }\n",
              "\n",
              "    .colab-df-convert:hover {\n",
              "      background-color: #E2EBFA;\n",
              "      box-shadow: 0px 1px 2px rgba(60, 64, 67, 0.3), 0px 1px 3px 1px rgba(60, 64, 67, 0.15);\n",
              "      fill: #174EA6;\n",
              "    }\n",
              "\n",
              "    .colab-df-buttons div {\n",
              "      margin-bottom: 4px;\n",
              "    }\n",
              "\n",
              "    [theme=dark] .colab-df-convert {\n",
              "      background-color: #3B4455;\n",
              "      fill: #D2E3FC;\n",
              "    }\n",
              "\n",
              "    [theme=dark] .colab-df-convert:hover {\n",
              "      background-color: #434B5C;\n",
              "      box-shadow: 0px 1px 3px 1px rgba(0, 0, 0, 0.15);\n",
              "      filter: drop-shadow(0px 1px 2px rgba(0, 0, 0, 0.3));\n",
              "      fill: #FFFFFF;\n",
              "    }\n",
              "  </style>\n",
              "\n",
              "    <script>\n",
              "      const buttonEl =\n",
              "        document.querySelector('#df-bdb5060d-b142-439a-8d5b-241df028accb button.colab-df-convert');\n",
              "      buttonEl.style.display =\n",
              "        google.colab.kernel.accessAllowed ? 'block' : 'none';\n",
              "\n",
              "      async function convertToInteractive(key) {\n",
              "        const element = document.querySelector('#df-bdb5060d-b142-439a-8d5b-241df028accb');\n",
              "        const dataTable =\n",
              "          await google.colab.kernel.invokeFunction('convertToInteractive',\n",
              "                                                    [key], {});\n",
              "        if (!dataTable) return;\n",
              "\n",
              "        const docLinkHtml = 'Like what you see? Visit the ' +\n",
              "          '<a target=\"_blank\" href=https://colab.research.google.com/notebooks/data_table.ipynb>data table notebook</a>'\n",
              "          + ' to learn more about interactive tables.';\n",
              "        element.innerHTML = '';\n",
              "        dataTable['output_type'] = 'display_data';\n",
              "        await google.colab.output.renderOutput(dataTable, element);\n",
              "        const docLink = document.createElement('div');\n",
              "        docLink.innerHTML = docLinkHtml;\n",
              "        element.appendChild(docLink);\n",
              "      }\n",
              "    </script>\n",
              "  </div>\n",
              "\n",
              "\n",
              "<div id=\"df-24302e3a-debe-44df-8f5b-4b09505e4917\">\n",
              "  <button class=\"colab-df-quickchart\" onclick=\"quickchart('df-24302e3a-debe-44df-8f5b-4b09505e4917')\"\n",
              "            title=\"Suggest charts\"\n",
              "            style=\"display:none;\">\n",
              "\n",
              "<svg xmlns=\"http://www.w3.org/2000/svg\" height=\"24px\"viewBox=\"0 0 24 24\"\n",
              "     width=\"24px\">\n",
              "    <g>\n",
              "        <path d=\"M19 3H5c-1.1 0-2 .9-2 2v14c0 1.1.9 2 2 2h14c1.1 0 2-.9 2-2V5c0-1.1-.9-2-2-2zM9 17H7v-7h2v7zm4 0h-2V7h2v10zm4 0h-2v-4h2v4z\"/>\n",
              "    </g>\n",
              "</svg>\n",
              "  </button>\n",
              "\n",
              "<style>\n",
              "  .colab-df-quickchart {\n",
              "      --bg-color: #E8F0FE;\n",
              "      --fill-color: #1967D2;\n",
              "      --hover-bg-color: #E2EBFA;\n",
              "      --hover-fill-color: #174EA6;\n",
              "      --disabled-fill-color: #AAA;\n",
              "      --disabled-bg-color: #DDD;\n",
              "  }\n",
              "\n",
              "  [theme=dark] .colab-df-quickchart {\n",
              "      --bg-color: #3B4455;\n",
              "      --fill-color: #D2E3FC;\n",
              "      --hover-bg-color: #434B5C;\n",
              "      --hover-fill-color: #FFFFFF;\n",
              "      --disabled-bg-color: #3B4455;\n",
              "      --disabled-fill-color: #666;\n",
              "  }\n",
              "\n",
              "  .colab-df-quickchart {\n",
              "    background-color: var(--bg-color);\n",
              "    border: none;\n",
              "    border-radius: 50%;\n",
              "    cursor: pointer;\n",
              "    display: none;\n",
              "    fill: var(--fill-color);\n",
              "    height: 32px;\n",
              "    padding: 0;\n",
              "    width: 32px;\n",
              "  }\n",
              "\n",
              "  .colab-df-quickchart:hover {\n",
              "    background-color: var(--hover-bg-color);\n",
              "    box-shadow: 0 1px 2px rgba(60, 64, 67, 0.3), 0 1px 3px 1px rgba(60, 64, 67, 0.15);\n",
              "    fill: var(--button-hover-fill-color);\n",
              "  }\n",
              "\n",
              "  .colab-df-quickchart-complete:disabled,\n",
              "  .colab-df-quickchart-complete:disabled:hover {\n",
              "    background-color: var(--disabled-bg-color);\n",
              "    fill: var(--disabled-fill-color);\n",
              "    box-shadow: none;\n",
              "  }\n",
              "\n",
              "  .colab-df-spinner {\n",
              "    border: 2px solid var(--fill-color);\n",
              "    border-color: transparent;\n",
              "    border-bottom-color: var(--fill-color);\n",
              "    animation:\n",
              "      spin 1s steps(1) infinite;\n",
              "  }\n",
              "\n",
              "  @keyframes spin {\n",
              "    0% {\n",
              "      border-color: transparent;\n",
              "      border-bottom-color: var(--fill-color);\n",
              "      border-left-color: var(--fill-color);\n",
              "    }\n",
              "    20% {\n",
              "      border-color: transparent;\n",
              "      border-left-color: var(--fill-color);\n",
              "      border-top-color: var(--fill-color);\n",
              "    }\n",
              "    30% {\n",
              "      border-color: transparent;\n",
              "      border-left-color: var(--fill-color);\n",
              "      border-top-color: var(--fill-color);\n",
              "      border-right-color: var(--fill-color);\n",
              "    }\n",
              "    40% {\n",
              "      border-color: transparent;\n",
              "      border-right-color: var(--fill-color);\n",
              "      border-top-color: var(--fill-color);\n",
              "    }\n",
              "    60% {\n",
              "      border-color: transparent;\n",
              "      border-right-color: var(--fill-color);\n",
              "    }\n",
              "    80% {\n",
              "      border-color: transparent;\n",
              "      border-right-color: var(--fill-color);\n",
              "      border-bottom-color: var(--fill-color);\n",
              "    }\n",
              "    90% {\n",
              "      border-color: transparent;\n",
              "      border-bottom-color: var(--fill-color);\n",
              "    }\n",
              "  }\n",
              "</style>\n",
              "\n",
              "  <script>\n",
              "    async function quickchart(key) {\n",
              "      const quickchartButtonEl =\n",
              "        document.querySelector('#' + key + ' button');\n",
              "      quickchartButtonEl.disabled = true;  // To prevent multiple clicks.\n",
              "      quickchartButtonEl.classList.add('colab-df-spinner');\n",
              "      try {\n",
              "        const charts = await google.colab.kernel.invokeFunction(\n",
              "            'suggestCharts', [key], {});\n",
              "      } catch (error) {\n",
              "        console.error('Error during call to suggestCharts:', error);\n",
              "      }\n",
              "      quickchartButtonEl.classList.remove('colab-df-spinner');\n",
              "      quickchartButtonEl.classList.add('colab-df-quickchart-complete');\n",
              "    }\n",
              "    (() => {\n",
              "      let quickchartButtonEl =\n",
              "        document.querySelector('#df-24302e3a-debe-44df-8f5b-4b09505e4917 button');\n",
              "      quickchartButtonEl.style.display =\n",
              "        google.colab.kernel.accessAllowed ? 'block' : 'none';\n",
              "    })();\n",
              "  </script>\n",
              "</div>\n",
              "\n",
              "    </div>\n",
              "  </div>\n"
            ],
            "application/vnd.google.colaboratory.intrinsic+json": {
              "type": "dataframe",
              "summary": "{\n  \"name\": \"c\",\n  \"rows\": 6,\n  \"fields\": [\n    {\n      \"column\": \"i\",\n      \"properties\": {\n        \"dtype\": \"category\",\n        \"num_unique_values\": 2,\n        \"samples\": [\n          \"san-diego\",\n          \"seattle\"\n        ],\n        \"semantic_type\": \"\",\n        \"description\": \"\"\n      }\n    },\n    {\n      \"column\": \"j\",\n      \"properties\": {\n        \"dtype\": \"category\",\n        \"num_unique_values\": 3,\n        \"samples\": [\n          \"new-york\",\n          \"chicago\"\n        ],\n        \"semantic_type\": \"\",\n        \"description\": \"\"\n      }\n    },\n    {\n      \"column\": \"value\",\n      \"properties\": {\n        \"dtype\": \"number\",\n        \"std\": 0.04054996917384772,\n        \"min\": 0.126,\n        \"max\": 0.225,\n        \"num_unique_values\": 4,\n        \"samples\": [\n          0.153,\n          0.126\n        ],\n        \"semantic_type\": \"\",\n        \"description\": \"\"\n      }\n    }\n  ]\n}"
            }
          },
          "metadata": {},
          "execution_count": 18
        }
      ],
      "source": [
        "c[i, j] = freight_cost * d[i, j] / 1000\n",
        "c.records"
      ]
    },
    {
      "cell_type": "markdown",
      "metadata": {
        "id": "Epgg2BGgCOGJ"
      },
      "source": [
        "## Solve\n",
        "\n",
        "Once the GAMSPy ``Model`` is defined, it's ready to be solved. The ``solve()`` statement triggers the generation of the specific model instance, creates suitable data structures for the solver, and invokes the solver. To view solver output in the console, the ``sys`` library can be used, passing the ``output=sys.stdout`` attribute to ``transport.solve()``."
      ]
    },
    {
      "cell_type": "code",
      "execution_count": 19,
      "metadata": {
        "id": "mzBSryBNCOGK",
        "outputId": "ed8b9045-c6a6-44e0-8daa-697c9160fa44",
        "colab": {
          "base_uri": "https://localhost:8080/",
          "height": 1000
        }
      },
      "outputs": [
        {
          "output_type": "stream",
          "name": "stdout",
          "text": [
            "--- Job _ece5e4fd-c469-4333-90e6-42bd0c5564cb.gms Start 04/04/25 14:42:20 49.3.0 7de46a92 LEX-LEG x86 64bit/Linux\n",
            "--- Applying:\n",
            "    /usr/local/lib/python3.11/dist-packages/gamspy_base/gmsprmun.txt\n",
            "--- GAMS Parameters defined\n",
            "    LP CPLEX\n",
            "    Input /tmp/tmpqantql7p/_ece5e4fd-c469-4333-90e6-42bd0c5564cb.gms\n",
            "    Output /tmp/tmpqantql7p/_ece5e4fd-c469-4333-90e6-42bd0c5564cb.lst\n",
            "    ScrDir /tmp/tmpqantql7p/tmpvhkjeeyj/\n",
            "    SysDir /usr/local/lib/python3.11/dist-packages/gamspy_base/\n",
            "    LogOption 3\n",
            "    Trace /tmp/tmpqantql7p/_ece5e4fd-c469-4333-90e6-42bd0c5564cb.txt\n",
            "    License /usr/local/lib/python3.11/dist-packages/gamspy_base/gamslice.txt\n",
            "    OptDir /tmp/tmpqantql7p/\n",
            "    LimRow 0\n",
            "    LimCol 0\n",
            "    TraceOpt 3\n",
            "    GDX /tmp/tmpqantql7p/_ece5e4fd-c469-4333-90e6-42bd0c5564cbout.gdx\n",
            "    SolPrint 0\n",
            "    PreviousWork 1\n",
            "    gdxSymbols newOrChanged\n",
            "Licensee: GAMS Demo, for EULA and demo limitations see   G250131/0001CB-GEN\n",
            "          https://www.gams.com/latest/docs/UG%5FLicense.html         DC0000\n",
            "          /usr/local/lib/python3.11/dist-packages/gamspy_base/gamslice.txt\n",
            "          Demo license for demonstration and instructional purposes only\n",
            "System information: 2 logical cores and 13 Gb memory detected\n",
            "--- Starting compilation\n",
            "--- _ece5e4fd-c469-4333-90e6-42bd0c5564cb.gms(68) 4 Mb\n",
            "--- Starting execution: elapsed 0:00:00.003\n",
            "--- Generating LP model transport\n",
            "--- _ece5e4fd-c469-4333-90e6-42bd0c5564cb.gms(130) 4 Mb\n",
            "---   6 rows  7 columns  19 non-zeroes\n",
            "--- Range statistics (absolute non-zero finite values)\n",
            "--- RHS       [min, max] : [ 2.750E+02, 6.000E+02] - Zero values observed as well\n",
            "--- Bound     [min, max] : [        NA,        NA] - Zero values observed as well\n",
            "--- Matrix    [min, max] : [ 1.260E-01, 1.000E+00]\n",
            "--- Executing CPLEX (Solvelink=2): elapsed 0:00:00.013\n",
            "\n",
            "IBM ILOG CPLEX   49.3.0 7de46a92 Mar 18, 2025          LEG x86 64bit/Linux    \n",
            "\n",
            "*** This solver runs with a demo license. No commercial use.\n",
            "--- GMO setup time: 0.00s\n",
            "--- GMO memory 0.50 Mb (peak 0.50 Mb)\n",
            "--- Dictionary memory 0.00 Mb\n",
            "--- Cplex 22.1.2.0 link memory 0.00 Mb (peak 0.00 Mb)\n",
            "--- Starting Cplex\n",
            "\n",
            "Version identifier: 22.1.2.0 | 2024-11-26 | 0edbb82fd\n",
            "CPXPARAM_Advance                                 0\n",
            "CPXPARAM_Simplex_Display                         2\n",
            "CPXPARAM_MIP_Display                             4\n",
            "CPXPARAM_MIP_Pool_Capacity                       0\n",
            "CPXPARAM_MIP_Tolerances_AbsMIPGap                0\n",
            "Tried aggregator 1 time.\n",
            "LP Presolve eliminated 0 rows and 1 columns.\n",
            "Reduced LP has 5 rows, 6 columns, and 12 nonzeros.\n",
            "Presolve time = 0.00 sec. (0.00 ticks)\n",
            "\n",
            "Iteration      Dual Objective            In Variable           Out Variable\n",
            "     1              73.125000    x(seattle,new-york) demand(new-york) slack\n",
            "     2             119.025000     x(seattle,chicago)  demand(chicago) slack\n",
            "     3             153.675000    x(san-diego,topeka)   demand(topeka) slack\n",
            "     4             153.675000  x(san-diego,new-york)  supply(seattle) slack\n",
            "\n",
            "--- LP status (1): optimal.\n",
            "--- Cplex Time: 0.00sec (det. 0.01 ticks)\n",
            "\n",
            "\n",
            "Optimal solution found\n",
            "Objective:          153.675000\n",
            "\n",
            "--- Reading solution for model transport\n",
            "--- Executing after solve: elapsed 0:00:00.059\n",
            "--- _ece5e4fd-c469-4333-90e6-42bd0c5564cb.gms(192) 4 Mb\n",
            "--- GDX File /tmp/tmpqantql7p/_ece5e4fd-c469-4333-90e6-42bd0c5564cbout.gdx\n",
            "*** Status: Normal completion\n",
            "--- Job _ece5e4fd-c469-4333-90e6-42bd0c5564cb.gms Stop 04/04/25 14:42:20 elapsed 0:00:00.060\n"
          ]
        },
        {
          "output_type": "execute_result",
          "data": {
            "text/plain": [
              "  Solver Status   Model Status Objective Num of Equations Num of Variables  \\\n",
              "0        Normal  OptimalGlobal   153.675                6                7   \n",
              "\n",
              "  Model Type Solver Solver Time  \n",
              "0         LP  CPLEX       0.003  "
            ],
            "text/html": [
              "\n",
              "  <div id=\"df-26c5860c-9b67-4819-b298-6b94e8af1f80\" class=\"colab-df-container\">\n",
              "    <div>\n",
              "<style scoped>\n",
              "    .dataframe tbody tr th:only-of-type {\n",
              "        vertical-align: middle;\n",
              "    }\n",
              "\n",
              "    .dataframe tbody tr th {\n",
              "        vertical-align: top;\n",
              "    }\n",
              "\n",
              "    .dataframe thead th {\n",
              "        text-align: right;\n",
              "    }\n",
              "</style>\n",
              "<table border=\"1\" class=\"dataframe\">\n",
              "  <thead>\n",
              "    <tr style=\"text-align: right;\">\n",
              "      <th></th>\n",
              "      <th>Solver Status</th>\n",
              "      <th>Model Status</th>\n",
              "      <th>Objective</th>\n",
              "      <th>Num of Equations</th>\n",
              "      <th>Num of Variables</th>\n",
              "      <th>Model Type</th>\n",
              "      <th>Solver</th>\n",
              "      <th>Solver Time</th>\n",
              "    </tr>\n",
              "  </thead>\n",
              "  <tbody>\n",
              "    <tr>\n",
              "      <th>0</th>\n",
              "      <td>Normal</td>\n",
              "      <td>OptimalGlobal</td>\n",
              "      <td>153.675</td>\n",
              "      <td>6</td>\n",
              "      <td>7</td>\n",
              "      <td>LP</td>\n",
              "      <td>CPLEX</td>\n",
              "      <td>0.003</td>\n",
              "    </tr>\n",
              "  </tbody>\n",
              "</table>\n",
              "</div>\n",
              "    <div class=\"colab-df-buttons\">\n",
              "\n",
              "  <div class=\"colab-df-container\">\n",
              "    <button class=\"colab-df-convert\" onclick=\"convertToInteractive('df-26c5860c-9b67-4819-b298-6b94e8af1f80')\"\n",
              "            title=\"Convert this dataframe to an interactive table.\"\n",
              "            style=\"display:none;\">\n",
              "\n",
              "  <svg xmlns=\"http://www.w3.org/2000/svg\" height=\"24px\" viewBox=\"0 -960 960 960\">\n",
              "    <path d=\"M120-120v-720h720v720H120Zm60-500h600v-160H180v160Zm220 220h160v-160H400v160Zm0 220h160v-160H400v160ZM180-400h160v-160H180v160Zm440 0h160v-160H620v160ZM180-180h160v-160H180v160Zm440 0h160v-160H620v160Z\"/>\n",
              "  </svg>\n",
              "    </button>\n",
              "\n",
              "  <style>\n",
              "    .colab-df-container {\n",
              "      display:flex;\n",
              "      gap: 12px;\n",
              "    }\n",
              "\n",
              "    .colab-df-convert {\n",
              "      background-color: #E8F0FE;\n",
              "      border: none;\n",
              "      border-radius: 50%;\n",
              "      cursor: pointer;\n",
              "      display: none;\n",
              "      fill: #1967D2;\n",
              "      height: 32px;\n",
              "      padding: 0 0 0 0;\n",
              "      width: 32px;\n",
              "    }\n",
              "\n",
              "    .colab-df-convert:hover {\n",
              "      background-color: #E2EBFA;\n",
              "      box-shadow: 0px 1px 2px rgba(60, 64, 67, 0.3), 0px 1px 3px 1px rgba(60, 64, 67, 0.15);\n",
              "      fill: #174EA6;\n",
              "    }\n",
              "\n",
              "    .colab-df-buttons div {\n",
              "      margin-bottom: 4px;\n",
              "    }\n",
              "\n",
              "    [theme=dark] .colab-df-convert {\n",
              "      background-color: #3B4455;\n",
              "      fill: #D2E3FC;\n",
              "    }\n",
              "\n",
              "    [theme=dark] .colab-df-convert:hover {\n",
              "      background-color: #434B5C;\n",
              "      box-shadow: 0px 1px 3px 1px rgba(0, 0, 0, 0.15);\n",
              "      filter: drop-shadow(0px 1px 2px rgba(0, 0, 0, 0.3));\n",
              "      fill: #FFFFFF;\n",
              "    }\n",
              "  </style>\n",
              "\n",
              "    <script>\n",
              "      const buttonEl =\n",
              "        document.querySelector('#df-26c5860c-9b67-4819-b298-6b94e8af1f80 button.colab-df-convert');\n",
              "      buttonEl.style.display =\n",
              "        google.colab.kernel.accessAllowed ? 'block' : 'none';\n",
              "\n",
              "      async function convertToInteractive(key) {\n",
              "        const element = document.querySelector('#df-26c5860c-9b67-4819-b298-6b94e8af1f80');\n",
              "        const dataTable =\n",
              "          await google.colab.kernel.invokeFunction('convertToInteractive',\n",
              "                                                    [key], {});\n",
              "        if (!dataTable) return;\n",
              "\n",
              "        const docLinkHtml = 'Like what you see? Visit the ' +\n",
              "          '<a target=\"_blank\" href=https://colab.research.google.com/notebooks/data_table.ipynb>data table notebook</a>'\n",
              "          + ' to learn more about interactive tables.';\n",
              "        element.innerHTML = '';\n",
              "        dataTable['output_type'] = 'display_data';\n",
              "        await google.colab.output.renderOutput(dataTable, element);\n",
              "        const docLink = document.createElement('div');\n",
              "        docLink.innerHTML = docLinkHtml;\n",
              "        element.appendChild(docLink);\n",
              "      }\n",
              "    </script>\n",
              "  </div>\n",
              "\n",
              "\n",
              "    </div>\n",
              "  </div>\n"
            ],
            "application/vnd.google.colaboratory.intrinsic+json": {
              "type": "dataframe",
              "summary": "{\n  \"name\": \"transport\",\n  \"rows\": 1,\n  \"fields\": [\n    {\n      \"column\": \"Solver Status\",\n      \"properties\": {\n        \"dtype\": \"string\",\n        \"num_unique_values\": 1,\n        \"samples\": [\n          \"Normal\"\n        ],\n        \"semantic_type\": \"\",\n        \"description\": \"\"\n      }\n    },\n    {\n      \"column\": \"Model Status\",\n      \"properties\": {\n        \"dtype\": \"string\",\n        \"num_unique_values\": 1,\n        \"samples\": [\n          \"OptimalGlobal\"\n        ],\n        \"semantic_type\": \"\",\n        \"description\": \"\"\n      }\n    },\n    {\n      \"column\": \"Objective\",\n      \"properties\": {\n        \"dtype\": \"string\",\n        \"num_unique_values\": 1,\n        \"samples\": [\n          \"153.675\"\n        ],\n        \"semantic_type\": \"\",\n        \"description\": \"\"\n      }\n    },\n    {\n      \"column\": \"Num of Equations\",\n      \"properties\": {\n        \"dtype\": \"string\",\n        \"num_unique_values\": 1,\n        \"samples\": [\n          \"6\"\n        ],\n        \"semantic_type\": \"\",\n        \"description\": \"\"\n      }\n    },\n    {\n      \"column\": \"Num of Variables\",\n      \"properties\": {\n        \"dtype\": \"string\",\n        \"num_unique_values\": 1,\n        \"samples\": [\n          \"7\"\n        ],\n        \"semantic_type\": \"\",\n        \"description\": \"\"\n      }\n    },\n    {\n      \"column\": \"Model Type\",\n      \"properties\": {\n        \"dtype\": \"string\",\n        \"num_unique_values\": 1,\n        \"samples\": [\n          \"LP\"\n        ],\n        \"semantic_type\": \"\",\n        \"description\": \"\"\n      }\n    },\n    {\n      \"column\": \"Solver\",\n      \"properties\": {\n        \"dtype\": \"string\",\n        \"num_unique_values\": 1,\n        \"samples\": [\n          \"CPLEX\"\n        ],\n        \"semantic_type\": \"\",\n        \"description\": \"\"\n      }\n    },\n    {\n      \"column\": \"Solver Time\",\n      \"properties\": {\n        \"dtype\": \"string\",\n        \"num_unique_values\": 1,\n        \"samples\": [\n          \"0.003\"\n        ],\n        \"semantic_type\": \"\",\n        \"description\": \"\"\n      }\n    }\n  ]\n}"
            }
          },
          "metadata": {},
          "execution_count": 19
        }
      ],
      "source": [
        "import sys\n",
        "\n",
        "transport.solve(output=sys.stdout)"
      ]
    },
    {
      "cell_type": "code",
      "source": [
        "print(demand.m.records)"
      ],
      "metadata": {
        "id": "ZudVNZJGQJId",
        "outputId": "6b1ff2ca-94c1-4b24-d7a0-0f83c00d0a1a",
        "colab": {
          "base_uri": "https://localhost:8080/"
        }
      },
      "execution_count": 20,
      "outputs": [
        {
          "output_type": "stream",
          "name": "stdout",
          "text": [
            "          j  marginal\n",
            "0  new-york     0.225\n",
            "1   chicago     0.153\n",
            "2    topeka     0.126\n"
          ]
        }
      ]
    },
    {
      "cell_type": "markdown",
      "metadata": {
        "id": "GD2iTJ2pCOGK"
      },
      "source": [
        "## Verifying the Generated Model\n",
        "The generated equations and variables can be inspected to verify the correctness of the generated model. GAMSPy provides ``getEquationListing`` and ``getVariableListing`` to get the generated equations and variables."
      ]
    },
    {
      "cell_type": "markdown",
      "metadata": {
        "id": "LjIVrC0rCOGK"
      },
      "source": [
        "In order to get the listings, we first need to solve the model with ``column_listing_limit`` and ``variable_listing_limit`` options."
      ]
    },
    {
      "cell_type": "code",
      "execution_count": null,
      "metadata": {
        "id": "u5Op7Vh7COGL",
        "outputId": "f8eef36e-a8b9-45da-f50b-d319a821f41a"
      },
      "outputs": [
        {
          "name": "stdout",
          "output_type": "stream",
          "text": [
            "--- _c2d740e2-1c4c-4113-80e8-3c65b022cdfe.gms(192) 4 Mb\n",
            "--- Job _c2d740e2-1c4c-4113-80e8-3c65b022cdfe.gms Start 01/02/25 09:26:25 48.5.0 5f05ac2f LEX-LEG x86 64bit/Linux\n",
            "--- Applying:\n",
            "    /home/muhammet/anaconda3/envs/py313/lib/python3.13/site-packages/gamspy_base/gmsprmun.txt\n",
            "--- GAMS Parameters defined\n",
            "    LP CPLEX\n",
            "    Input /tmp/tmpdie1ewav/_c2d740e2-1c4c-4113-80e8-3c65b022cdfe.gms\n",
            "    Output /tmp/tmpdie1ewav/_c2d740e2-1c4c-4113-80e8-3c65b022cdfe.lst\n",
            "    ScrDir /tmp/tmpdie1ewav/tmp7px2lpec/\n",
            "    SysDir /home/muhammet/anaconda3/envs/py313/lib/python3.13/site-packages/gamspy_base/\n",
            "    LogOption 3\n",
            "    Trace /tmp/tmpdie1ewav/_c2d740e2-1c4c-4113-80e8-3c65b022cdfe.txt\n",
            "    License /home/muhammet/.local/share/GAMSPy/gamspy_license.txt\n",
            "    OptDir /tmp/tmpdie1ewav/\n",
            "    LimRow 10\n",
            "    LimCol 10\n",
            "    TraceOpt 3\n",
            "    GDX /tmp/tmpdie1ewav/_c2d740e2-1c4c-4113-80e8-3c65b022cdfeout.gdx\n",
            "    SolPrint 0\n",
            "    PreviousWork 1\n",
            "    gdxSymbols newOrChanged\n",
            "Licensee: GAMSPy Incremental Professional                G240510+0003Cc-GEN\n",
            "          GAMS                                                       DC0000\n",
            "          /home/muhammet/.local/share/GAMSPy/gamspy_license.txt\n",
            "          node:88412201 v:2                                                \n",
            "          Time-limited license with GAMSPy usage\n",
            "          The expiration date of time-limited license is May 14, 2029\n",
            "Processor information: 1 socket(s), 12 core(s), and 16 thread(s) available\n",
            "--- Starting compilation\n",
            "--- _c2d740e2-1c4c-4113-80e8-3c65b022cdfe.gms(68) 4 Mb\n",
            "--- Starting execution: elapsed 0:00:00.001\n",
            "--- Generating LP model transport\n",
            "--- _c2d740e2-1c4c-4113-80e8-3c65b022cdfe.gms(198) 4 Mb\n",
            "---   6 rows  7 columns  19 non-zeroes\n",
            "--- Range statistics (absolute non-zero finite values)\n",
            "--- RHS       [min, max] : [ 2.750E+02, 6.000E+02] - Zero values observed as well\n",
            "--- Bound     [min, max] : [        NA,        NA] - Zero values observed as well\n",
            "--- Matrix    [min, max] : [ 1.260E-01, 1.000E+00]\n",
            "--- Executing CPLEX (Solvelink=2): elapsed 0:00:00.002\n",
            "\n",
            "IBM ILOG CPLEX   48.5.0 5f05ac2f Dec 20, 2024          LEG x86 64bit/Linux    \n",
            "\n",
            "--- GAMS/CPLEX licensed for continuous and discrete problems.\n",
            "--- GMO setup time: 0.00s\n",
            "--- GMO memory 0.50 Mb (peak 0.50 Mb)\n",
            "--- Dictionary memory 0.00 Mb\n",
            "--- Cplex 22.1.1.0 link memory 0.00 Mb (peak 0.00 Mb)\n",
            "--- Starting Cplex\n",
            "\n",
            "Version identifier: 22.1.1.0 | 2022-11-28 | 9160aff4d\n",
            "CPXPARAM_Advance                                 2\n",
            "CPXPARAM_Simplex_Display                         2\n",
            "CPXPARAM_MIP_Display                             4\n",
            "CPXPARAM_MIP_Pool_Capacity                       0\n",
            "CPXPARAM_MIP_Tolerances_AbsMIPGap                0\n",
            "Tried aggregator 1 time.\n",
            "LP Presolve eliminated 0 rows and 1 columns.\n",
            "Reduced LP has 5 rows, 6 columns, and 12 nonzeros.\n",
            "Presolve time = 0.00 sec. (0.00 ticks)\n",
            "Using devex.\n",
            "\n",
            "--- LP status (1): optimal.\n",
            "--- Cplex Time: 0.00sec (det. 0.01 ticks)\n",
            "\n",
            "\n",
            "Optimal solution found\n",
            "Objective:          153.675000\n",
            "\n",
            "--- Reading solution for model transport\n",
            "--- Executing after solve: elapsed 0:00:00.016\n",
            "--- _c2d740e2-1c4c-4113-80e8-3c65b022cdfe.gms(260) 4 Mb\n",
            "--- GDX File /tmp/tmpdie1ewav/_c2d740e2-1c4c-4113-80e8-3c65b022cdfeout.gdx\n",
            "*** Status: Normal completion\n",
            "--- Job _c2d740e2-1c4c-4113-80e8-3c65b022cdfe.gms Stop 01/02/25 09:26:25 elapsed 0:00:00.016\n"
          ]
        },
        {
          "data": {
            "text/html": [
              "<div>\n",
              "<style scoped>\n",
              "    .dataframe tbody tr th:only-of-type {\n",
              "        vertical-align: middle;\n",
              "    }\n",
              "\n",
              "    .dataframe tbody tr th {\n",
              "        vertical-align: top;\n",
              "    }\n",
              "\n",
              "    .dataframe thead th {\n",
              "        text-align: right;\n",
              "    }\n",
              "</style>\n",
              "<table border=\"1\" class=\"dataframe\">\n",
              "  <thead>\n",
              "    <tr style=\"text-align: right;\">\n",
              "      <th></th>\n",
              "      <th>Solver Status</th>\n",
              "      <th>Model Status</th>\n",
              "      <th>Objective</th>\n",
              "      <th>Num of Equations</th>\n",
              "      <th>Num of Variables</th>\n",
              "      <th>Model Type</th>\n",
              "      <th>Solver</th>\n",
              "      <th>Solver Time</th>\n",
              "    </tr>\n",
              "  </thead>\n",
              "  <tbody>\n",
              "    <tr>\n",
              "      <th>0</th>\n",
              "      <td>Normal</td>\n",
              "      <td>OptimalGlobal</td>\n",
              "      <td>153.675</td>\n",
              "      <td>6</td>\n",
              "      <td>7</td>\n",
              "      <td>LP</td>\n",
              "      <td>CPLEX</td>\n",
              "      <td>0.001</td>\n",
              "    </tr>\n",
              "  </tbody>\n",
              "</table>\n",
              "</div>"
            ],
            "text/plain": [
              "  Solver Status   Model Status Objective Num of Equations Num of Variables  \\\n",
              "0        Normal  OptimalGlobal   153.675                6                7   \n",
              "\n",
              "  Model Type Solver Solver Time  \n",
              "0         LP  CPLEX       0.001  "
            ]
          },
          "execution_count": 20,
          "metadata": {},
          "output_type": "execute_result"
        }
      ],
      "source": [
        "transport.solve(output=sys.stdout, options=Options(equation_listing_limit=10, variable_listing_limit=10))"
      ]
    },
    {
      "cell_type": "markdown",
      "metadata": {
        "id": "I1uCJWiZCOGL"
      },
      "source": [
        "Now, we can inspect the generated equations and variables."
      ]
    },
    {
      "cell_type": "code",
      "execution_count": null,
      "metadata": {
        "id": "rSY2V25pCOGM",
        "outputId": "3f690057-d2f2-4c59-e1e4-38826f79ef31"
      },
      "outputs": [
        {
          "name": "stdout",
          "output_type": "stream",
          "text": [
            "supply(seattle)..  x(seattle,new-york) + x(seattle,chicago) + x(seattle,topeka) =L= 350 ; (LHS = 350)\n",
            "supply(san-diego)..  x(san-diego,new-york) + x(san-diego,chicago) + x(san-diego,topeka) =L= 600 ; (LHS = 550)\n",
            "demand(new-york)..  x(seattle,new-york) + x(san-diego,new-york) =G= 325 ; (LHS = 325)\n",
            "demand(chicago)..  x(seattle,chicago) + x(san-diego,chicago) =G= 300 ; (LHS = 300)\n",
            "demand(topeka)..  x(seattle,topeka) + x(san-diego,topeka) =G= 275 ; (LHS = 275)\n",
            "transport_objective..  0.225*x(seattle,new-york) + 0.153*x(seattle,chicago) + 0.162*x(seattle,topeka) + 0.225*x(san-diego,new-york) + 0.162*x(san-diego,chicago) + 0.126*x(san-diego,topeka) - transport_objective_variable =E= 0 ; (LHS = 0)\n"
          ]
        }
      ],
      "source": [
        "print(transport.getEquationListing())"
      ]
    },
    {
      "cell_type": "code",
      "execution_count": null,
      "metadata": {
        "id": "jFt_IVpICOGM",
        "outputId": "13049e99-0e3f-4521-bc52-58f2e6b6fe7c"
      },
      "outputs": [
        {
          "name": "stdout",
          "output_type": "stream",
          "text": [
            "x(seattle,new-york)\n",
            "                (.LO, .L, .UP, .M = 0, 50, +INF, 0)\n",
            "        1       supply(seattle)\n",
            "        1       demand(new-york)\n",
            "        0.225   transport_objective\n",
            "\n",
            "x(seattle,chicago)\n",
            "                (.LO, .L, .UP, .M = 0, 300, +INF, 0)\n",
            "        1       supply(seattle)\n",
            "        1       demand(chicago)\n",
            "        0.153   transport_objective\n",
            "\n",
            "x(seattle,topeka)\n",
            "                (.LO, .L, .UP, .M = 0, 0, +INF, 0.036)\n",
            "        1       supply(seattle)\n",
            "        1       demand(topeka)\n",
            "        0.162   transport_objective\n",
            "\n",
            "x(san-diego,new-york)\n",
            "                (.LO, .L, .UP, .M = 0, 275, +INF, 0)\n",
            "        1       supply(san-diego)\n",
            "        1       demand(new-york)\n",
            "        0.225   transport_objective\n",
            "\n",
            "x(san-diego,chicago)\n",
            "                (.LO, .L, .UP, .M = 0, 0, +INF, 0.00900000000000001)\n",
            "        1       supply(san-diego)\n",
            "        1       demand(chicago)\n",
            "        0.162   transport_objective\n",
            "\n",
            "x(san-diego,topeka)\n",
            "                (.LO, .L, .UP, .M = 0, 275, +INF, 0)\n",
            "        1       supply(san-diego)\n",
            "        1       demand(topeka)\n",
            "        0.126   transport_objective\n",
            "\n",
            "transport_objective_variable\n",
            "                (.LO, .L, .UP, .M = -INF, 153.675, +INF, 0)\n",
            "       -1       transport_objective\n",
            "\n"
          ]
        }
      ],
      "source": [
        "print(transport.getVariableListing())"
      ]
    },
    {
      "cell_type": "markdown",
      "metadata": {
        "id": "HPYeyXXmCOGN"
      },
      "source": [
        "The same function can also be called on individual Equation and Variable symbols."
      ]
    },
    {
      "cell_type": "code",
      "execution_count": null,
      "metadata": {
        "id": "fOMlLiouCOGN",
        "outputId": "e7e2e7fc-bde7-4002-b4dd-44eb993fdd86"
      },
      "outputs": [
        {
          "name": "stdout",
          "output_type": "stream",
          "text": [
            "supply(seattle)..  x(seattle,new-york) + x(seattle,chicago) + x(seattle,topeka) =L= 350 ; (LHS = 350)\n",
            "supply(san-diego)..  x(san-diego,new-york) + x(san-diego,chicago) + x(san-diego,topeka) =L= 600 ; (LHS = 550)\n"
          ]
        }
      ],
      "source": [
        "print(supply.getEquationListing())"
      ]
    },
    {
      "cell_type": "code",
      "execution_count": null,
      "metadata": {
        "id": "7OrZMuWqCOGN",
        "outputId": "45f10196-3a34-49cf-d5a8-ae129bef73ac"
      },
      "outputs": [
        {
          "name": "stdout",
          "output_type": "stream",
          "text": [
            "x(seattle,new-york)\n",
            "                (.LO, .L, .UP, .M = 0, 50, +INF, 0)\n",
            "        1       supply(seattle)\n",
            "        1       demand(new-york)\n",
            "        0.225   transport_objective\n",
            "\n",
            "x(seattle,chicago)\n",
            "                (.LO, .L, .UP, .M = 0, 300, +INF, 0)\n",
            "        1       supply(seattle)\n",
            "        1       demand(chicago)\n",
            "        0.153   transport_objective\n",
            "\n",
            "x(seattle,topeka)\n",
            "                (.LO, .L, .UP, .M = 0, 0, +INF, 0.036)\n",
            "        1       supply(seattle)\n",
            "        1       demand(topeka)\n",
            "        0.162   transport_objective\n",
            "\n",
            "x(san-diego,new-york)\n",
            "                (.LO, .L, .UP, .M = 0, 275, +INF, 0)\n",
            "        1       supply(san-diego)\n",
            "        1       demand(new-york)\n",
            "        0.225   transport_objective\n",
            "\n",
            "x(san-diego,chicago)\n",
            "                (.LO, .L, .UP, .M = 0, 0, +INF, 0.00900000000000001)\n",
            "        1       supply(san-diego)\n",
            "        1       demand(chicago)\n",
            "        0.162   transport_objective\n",
            "\n",
            "x(san-diego,topeka)\n",
            "                (.LO, .L, .UP, .M = 0, 275, +INF, 0)\n",
            "        1       supply(san-diego)\n",
            "        1       demand(topeka)\n",
            "        0.126   transport_objective\n",
            "\n"
          ]
        }
      ],
      "source": [
        "print(x.getVariableListing())"
      ]
    },
    {
      "cell_type": "markdown",
      "metadata": {
        "id": "jmxeUBWXCOGN"
      },
      "source": [
        "## Retrieving Results\n",
        "### Variable Values\n",
        "The values of the variables in the solution can be retrieved using ``<variable name>.records``. The level specifies the shipment quantities $x_{ij}$. Other variable attributes are the marginal values, lower and upper bounds, and the variable's scaling factor."
      ]
    },
    {
      "cell_type": "code",
      "execution_count": null,
      "metadata": {
        "id": "cWzfs15jCOGO",
        "outputId": "c2786c04-e533-4607-e3b2-67dd19799586"
      },
      "outputs": [
        {
          "data": {
            "text/html": [
              "<div>\n",
              "<style scoped>\n",
              "    .dataframe tbody tr th:only-of-type {\n",
              "        vertical-align: middle;\n",
              "    }\n",
              "\n",
              "    .dataframe tbody tr th {\n",
              "        vertical-align: top;\n",
              "    }\n",
              "\n",
              "    .dataframe thead th {\n",
              "        text-align: right;\n",
              "    }\n",
              "</style>\n",
              "<table border=\"1\" class=\"dataframe\">\n",
              "  <thead>\n",
              "    <tr style=\"text-align: right;\">\n",
              "      <th></th>\n",
              "      <th>i</th>\n",
              "      <th>j</th>\n",
              "      <th>level</th>\n",
              "      <th>marginal</th>\n",
              "      <th>lower</th>\n",
              "      <th>upper</th>\n",
              "      <th>scale</th>\n",
              "    </tr>\n",
              "  </thead>\n",
              "  <tbody>\n",
              "    <tr>\n",
              "      <th>0</th>\n",
              "      <td>seattle</td>\n",
              "      <td>new-york</td>\n",
              "      <td>50.0</td>\n",
              "      <td>0.000</td>\n",
              "      <td>0.0</td>\n",
              "      <td>inf</td>\n",
              "      <td>1.0</td>\n",
              "    </tr>\n",
              "    <tr>\n",
              "      <th>1</th>\n",
              "      <td>seattle</td>\n",
              "      <td>chicago</td>\n",
              "      <td>300.0</td>\n",
              "      <td>0.000</td>\n",
              "      <td>0.0</td>\n",
              "      <td>inf</td>\n",
              "      <td>1.0</td>\n",
              "    </tr>\n",
              "    <tr>\n",
              "      <th>2</th>\n",
              "      <td>seattle</td>\n",
              "      <td>topeka</td>\n",
              "      <td>0.0</td>\n",
              "      <td>0.036</td>\n",
              "      <td>0.0</td>\n",
              "      <td>inf</td>\n",
              "      <td>1.0</td>\n",
              "    </tr>\n",
              "    <tr>\n",
              "      <th>3</th>\n",
              "      <td>san-diego</td>\n",
              "      <td>new-york</td>\n",
              "      <td>275.0</td>\n",
              "      <td>0.000</td>\n",
              "      <td>0.0</td>\n",
              "      <td>inf</td>\n",
              "      <td>1.0</td>\n",
              "    </tr>\n",
              "    <tr>\n",
              "      <th>4</th>\n",
              "      <td>san-diego</td>\n",
              "      <td>chicago</td>\n",
              "      <td>0.0</td>\n",
              "      <td>0.009</td>\n",
              "      <td>0.0</td>\n",
              "      <td>inf</td>\n",
              "      <td>1.0</td>\n",
              "    </tr>\n",
              "    <tr>\n",
              "      <th>5</th>\n",
              "      <td>san-diego</td>\n",
              "      <td>topeka</td>\n",
              "      <td>275.0</td>\n",
              "      <td>0.000</td>\n",
              "      <td>0.0</td>\n",
              "      <td>inf</td>\n",
              "      <td>1.0</td>\n",
              "    </tr>\n",
              "  </tbody>\n",
              "</table>\n",
              "</div>"
            ],
            "text/plain": [
              "           i         j  level  marginal  lower  upper  scale\n",
              "0    seattle  new-york   50.0     0.000    0.0    inf    1.0\n",
              "1    seattle   chicago  300.0     0.000    0.0    inf    1.0\n",
              "2    seattle    topeka    0.0     0.036    0.0    inf    1.0\n",
              "3  san-diego  new-york  275.0     0.000    0.0    inf    1.0\n",
              "4  san-diego   chicago    0.0     0.009    0.0    inf    1.0\n",
              "5  san-diego    topeka  275.0     0.000    0.0    inf    1.0"
            ]
          },
          "execution_count": 25,
          "metadata": {},
          "output_type": "execute_result"
        }
      ],
      "source": [
        "x.records"
      ]
    },
    {
      "cell_type": "markdown",
      "metadata": {
        "id": "DFVDFy9yCOGO"
      },
      "source": [
        "### Objective Value\n",
        "The optimal objective function value can be accessed by `<model name>.objective_value`."
      ]
    },
    {
      "cell_type": "code",
      "execution_count": null,
      "metadata": {
        "id": "4bdtCkJfCOGO",
        "outputId": "deabfe14-54ec-49db-d5c0-501746d00a49"
      },
      "outputs": [
        {
          "data": {
            "text/plain": [
              "153.675"
            ]
          },
          "execution_count": 26,
          "metadata": {},
          "output_type": "execute_result"
        }
      ],
      "source": [
        "transport.objective_value"
      ]
    },
    {
      "cell_type": "markdown",
      "metadata": {
        "id": "Bz1r6HT9COGO"
      },
      "source": [
        "## Interoperability\n",
        "### Converting GAMSPy model to LaTeX\n",
        "One can convert the defined GAMSPy model to its LaTeX representation with ``toLatex`` function of the model. The .tex file will be generated under the given directory path. It can also be automatically converted to PDF format. For this feature to work, you must have [pdflatex](https://www.tug.org/applications/pdftex/) installed."
      ]
    },
    {
      "cell_type": "code",
      "execution_count": null,
      "metadata": {
        "id": "oG2VBuOKCOGP",
        "outputId": "bc815edc-21b9-4233-978f-6bc2d49620a7"
      },
      "outputs": [
        {
          "name": "stderr",
          "output_type": "stream",
          "text": [
            "[CONVERTER - INFO] LaTeX (.tex) file has been generated under latex/transport.tex\n"
          ]
        }
      ],
      "source": [
        "transport.toLatex(path=\"latex\", generate_pdf=False)"
      ]
    },
    {
      "cell_type": "markdown",
      "metadata": {
        "id": "NVEiajPwCOGP"
      },
      "source": [
        "![Latex](https://github.com/GAMS-dev/gamspy/blob/develop/docs/user/notebooks/latex_pdf.png?raw=1)"
      ]
    },
    {
      "cell_type": "markdown",
      "metadata": {
        "id": "NuJ0zirbCOGP"
      },
      "source": [
        "### Converting GAMSPy model to GAMS\n",
        "One can also convert the defined GAMSPy model to its GAMS equivalent with ``toGams`` function of the model. The .gms file will be generated under the given directory path. ``options`` can be provided as an argument. These options would be converted to a .pf file to be used with the .gms file."
      ]
    },
    {
      "cell_type": "code",
      "execution_count": null,
      "metadata": {
        "id": "XHOARCLmCOGP",
        "outputId": "ec77df28-d30f-4de7-b014-908e119076eb"
      },
      "outputs": [
        {
          "name": "stderr",
          "output_type": "stream",
          "text": [
            "[CONVERTER - INFO] GAMS (.gms) file has been generated under gams/transport.gms\n"
          ]
        }
      ],
      "source": [
        "transport.toGams(path=\"gams\")"
      ]
    }
  ],
  "metadata": {
    "kernelspec": {
      "display_name": "Python 3 (ipykernel)",
      "language": "python",
      "name": "python3"
    },
    "language_info": {
      "codemirror_mode": {
        "name": "ipython",
        "version": 3
      },
      "file_extension": ".py",
      "mimetype": "text/x-python",
      "name": "python",
      "nbconvert_exporter": "python",
      "pygments_lexer": "ipython3",
      "version": "3.13.0"
    },
    "colab": {
      "provenance": []
    }
  },
  "nbformat": 4,
  "nbformat_minor": 0
}